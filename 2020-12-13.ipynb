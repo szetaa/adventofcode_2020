{
 "cells": [
  {
   "cell_type": "markdown",
   "metadata": {},
   "source": [
    "https://adventofcode.com/2020/day/13"
   ]
  },
  {
   "cell_type": "code",
   "execution_count": 1,
   "metadata": {},
   "outputs": [],
   "source": [
    "file = '2020-12-13_input.txt'  \n",
    "with open(file) as f:\n",
    "    records = f.read().split('\\n')\n",
    "    \n",
    "t = int(records[0]) # starting time\n",
    "b = [int(b) for b in records[1].split(',') if b != 'x'] # bus list"
   ]
  },
  {
   "cell_type": "code",
   "execution_count": 2,
   "metadata": {},
   "outputs": [
    {
     "name": "stdout",
     "output_type": "stream",
     "text": [
      "1001612\n",
      "[19, 41, 37, 821, 13, 17, 29, 463, 23]\n"
     ]
    }
   ],
   "source": [
    "print(t)\n",
    "print(b)"
   ]
  },
  {
   "cell_type": "markdown",
   "metadata": {},
   "source": [
    "## First part"
   ]
  },
  {
   "cell_type": "code",
   "execution_count": 3,
   "metadata": {},
   "outputs": [
    {
     "data": {
      "text/plain": [
       "6568"
      ]
     },
     "execution_count": 3,
     "metadata": {},
     "output_type": "execute_result"
    }
   ],
   "source": [
    "wait = []\n",
    "for i in b:\n",
    "    wait.append((t//i)*i+i-t)\n",
    "idx = wait.index(min(wait))\n",
    "wait[idx]*b[idx]"
   ]
  },
  {
   "cell_type": "markdown",
   "metadata": {},
   "source": [
    "## Second part"
   ]
  },
  {
   "cell_type": "raw",
   "metadata": {},
   "source": [
    "Here are some other examples:\n",
    "\n",
    "The earliest timestamp that matches the list 17,x,13,19 is 3417.\n",
    "67,7,59,61 first occurs at timestamp 754018.\n",
    "67,x,7,59,61 first occurs at timestamp 779210.\n",
    "67,7,x,59,61 first occurs at timestamp 1261476.\n",
    "1789,37,47,1889 first occurs at timestamp 1202161486."
   ]
  },
  {
   "cell_type": "code",
   "execution_count": 4,
   "metadata": {},
   "outputs": [],
   "source": [
    "file = '2020-12-13_input.txt'  \n",
    "with open(file) as f:\n",
    "    records = f.read().split('\\n')\n",
    "    \n",
    "t = int(records[0]) # starting time\n",
    "full_list = [(b) for b in records[1].split(',')] # bus list"
   ]
  },
  {
   "cell_type": "code",
   "execution_count": 5,
   "metadata": {},
   "outputs": [],
   "source": [
    "#full_list = [17,'x',13,19]\n",
    "#full_list = [67,'x',7,59,61]\n",
    "full_list = [67,7,'x',59,61]\n",
    "#full_list = [1789,37,47,1889]"
   ]
  },
  {
   "cell_type": "code",
   "execution_count": 6,
   "metadata": {},
   "outputs": [
    {
     "name": "stdout",
     "output_type": "stream",
     "text": [
      "[67, 7, 59, 61] [0, 1, 3, 4]\n"
     ]
    }
   ],
   "source": [
    "b = [] # bus\n",
    "d = [] # delay\n",
    "for i,j in enumerate(full_list):\n",
    "    if j != 'x':\n",
    "        b.append(j)\n",
    "        d.append(i)\n",
    "print(b,d)"
   ]
  },
  {
   "cell_type": "code",
   "execution_count": 7,
   "metadata": {},
   "outputs": [
    {
     "name": "stdout",
     "output_type": "stream",
     "text": [
      "[67, 6, 56, 57]\n",
      "CPU times: user 148 ms, sys: 2.91 ms, total: 151 ms\n",
      "Wall time: 154 ms\n"
     ]
    },
    {
     "data": {
      "text/plain": [
       "[1261476, 1261476, 1261476, 1261476]"
      ]
     },
     "execution_count": 7,
     "metadata": {},
     "output_type": "execute_result"
    }
   ],
   "source": [
    "%%time\n",
    "m = [-x for x in d]\n",
    "m = [sum(x) for x in zip(b,m)]\n",
    "\n",
    "print(m)\n",
    "#while True:\n",
    "stop = False\n",
    "#while True:\n",
    "for asdf in range(100000):\n",
    "    if stop:\n",
    "        break\n",
    "    for i in range(len(b)):\n",
    "        maxm = max(m)\n",
    "        while m[i] < maxm:\n",
    "            #m[i] = (maxm//b[i])*b[i]+b[i]+d[i]\n",
    "            m[i] = m[i]+b[i]\n",
    "            #print(m)\n",
    "        #if m.count(max(m)) > 1:\n",
    "        #    print(m)\n",
    "        if m.count(m[0]) == len(m):\n",
    "            stop=True\n",
    "            break\n",
    "    \n",
    "m"
   ]
  },
  {
   "cell_type": "code",
   "execution_count": 8,
   "metadata": {},
   "outputs": [
    {
     "data": {
      "text/plain": [
       "1687931"
      ]
     },
     "execution_count": 8,
     "metadata": {},
     "output_type": "execute_result"
    }
   ],
   "source": [
    "import numpy as np\n",
    "np.lcm.reduce(b)"
   ]
  },
  {
   "cell_type": "code",
   "execution_count": null,
   "metadata": {},
   "outputs": [],
   "source": []
  }
 ],
 "metadata": {
  "kernelspec": {
   "display_name": "Python 3",
   "language": "python",
   "name": "python3"
  },
  "language_info": {
   "codemirror_mode": {
    "name": "ipython",
    "version": 3
   },
   "file_extension": ".py",
   "mimetype": "text/x-python",
   "name": "python",
   "nbconvert_exporter": "python",
   "pygments_lexer": "ipython3",
   "version": "3.7.7"
  }
 },
 "nbformat": 4,
 "nbformat_minor": 4
}
