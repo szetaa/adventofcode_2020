{
 "cells": [
  {
   "cell_type": "markdown",
   "metadata": {},
   "source": [
    "https://adventofcode.com/2020/day/10"
   ]
  },
  {
   "cell_type": "code",
   "execution_count": 1,
   "metadata": {},
   "outputs": [
    {
     "data": {
      "text/plain": [
       "92"
      ]
     },
     "execution_count": 1,
     "metadata": {},
     "output_type": "execute_result"
    }
   ],
   "source": [
    "file = '2020-12-10_input.txt'  \n",
    "with open(file) as f:\n",
    "    records = f.read().split('\\n')\n",
    "    \n",
    "records = [int(x) for x in records[:-1]]\n",
    "len(records)"
   ]
  },
  {
   "cell_type": "code",
   "execution_count": 2,
   "metadata": {},
   "outputs": [
    {
     "data": {
      "text/plain": [
       "[47, 61, 131, 15, 98, 123, 32, 6, 137, 111]"
      ]
     },
     "execution_count": 2,
     "metadata": {},
     "output_type": "execute_result"
    }
   ],
   "source": [
    "records[0:10]"
   ]
  },
  {
   "cell_type": "markdown",
   "metadata": {},
   "source": [
    "## First part"
   ]
  },
  {
   "cell_type": "raw",
   "metadata": {},
   "source": [
    "In this larger example, in a chain that uses all of the adapters, there are 22 differences of 1 jolt and 10 differences of 3 jolts."
   ]
  },
  {
   "cell_type": "code",
   "execution_count": 3,
   "metadata": {},
   "outputs": [],
   "source": [
    "records.append(0)\n",
    "records.sort()"
   ]
  },
  {
   "cell_type": "code",
   "execution_count": 4,
   "metadata": {},
   "outputs": [
    {
     "data": {
      "text/plain": [
       "[0, 1, 2, 5, 6, 9, 12, 13, 14, 15]"
      ]
     },
     "execution_count": 4,
     "metadata": {},
     "output_type": "execute_result"
    }
   ],
   "source": [
    "records[0:10]"
   ]
  },
  {
   "cell_type": "code",
   "execution_count": 5,
   "metadata": {},
   "outputs": [],
   "source": [
    "adapters = [i-j for i, j in zip(records[1:],records[:-1])]"
   ]
  },
  {
   "cell_type": "code",
   "execution_count": 6,
   "metadata": {},
   "outputs": [
    {
     "data": {
      "text/plain": [
       "Counter({1: 68, 3: 24})"
      ]
     },
     "execution_count": 6,
     "metadata": {},
     "output_type": "execute_result"
    }
   ],
   "source": [
    "import collections\n",
    "counter=collections.Counter(adapters)\n",
    "counter"
   ]
  },
  {
   "cell_type": "code",
   "execution_count": 7,
   "metadata": {},
   "outputs": [
    {
     "data": {
      "text/plain": [
       "1700"
      ]
     },
     "execution_count": 7,
     "metadata": {},
     "output_type": "execute_result"
    }
   ],
   "source": [
    "68*(24+1) # final three"
   ]
  },
  {
   "cell_type": "markdown",
   "metadata": {},
   "source": [
    "## Second part"
   ]
  },
  {
   "cell_type": "markdown",
   "metadata": {},
   "source": [
    "### Brainstorming with test data"
   ]
  },
  {
   "cell_type": "code",
   "execution_count": 8,
   "metadata": {},
   "outputs": [
    {
     "data": {
      "text/plain": [
       "[1, 1, 1, 1, 3, 1, 1, 1, 1, 3, 3, 1, 1, 1, 3, 1, 1, 3, 3, 1]"
      ]
     },
     "execution_count": 8,
     "metadata": {},
     "output_type": "execute_result"
    }
   ],
   "source": [
    "file = '2020-12-10_test.txt'  \n",
    "with open(file) as f:\n",
    "    records = f.read().split('\\n')\n",
    "    \n",
    "records = [int(x) for x in records[:-1]]\n",
    "records.append(0) # before first step\n",
    "records.sort()\n",
    "adapters = [i-j for i, j in zip(records[1:],records[:-1])] # first difference\n",
    "adapters[0:20]"
   ]
  },
  {
   "cell_type": "markdown",
   "metadata": {},
   "source": [
    "Rough idea: Divide into intervals where multiple paths are possible. Count for all evident patterns (i.e. length of consecutive ones) the number of adapter combinations to bridge."
   ]
  },
  {
   "cell_type": "code",
   "execution_count": 9,
   "metadata": {},
   "outputs": [
    {
     "data": {
      "text/plain": [
       "[4, 4, 0, 3, 2, 0, 4, 1, 0, 4]"
      ]
     },
     "execution_count": 9,
     "metadata": {},
     "output_type": "execute_result"
    }
   ],
   "source": [
    "distance = []\n",
    "c = 0\n",
    "for i in adapters:\n",
    "    if i == 1:\n",
    "        c+=1\n",
    "    else: \n",
    "        distance.append(c)\n",
    "        c=0\n",
    "distance.append(c)\n",
    "distance"
   ]
  },
  {
   "cell_type": "code",
   "execution_count": 10,
   "metadata": {},
   "outputs": [],
   "source": [
    "permutations = {\n",
    "    4:7,\n",
    "    3:4,\n",
    "    2:2,\n",
    "    1:1,\n",
    "    0:1\n",
    "}"
   ]
  },
  {
   "cell_type": "code",
   "execution_count": 11,
   "metadata": {},
   "outputs": [
    {
     "name": "stdout",
     "output_type": "stream",
     "text": [
      "sequence length 4 -> multiplier 7\n",
      "sequence length 4 -> multiplier 7\n",
      "sequence length 0 -> multiplier 1\n",
      "sequence length 3 -> multiplier 4\n",
      "sequence length 2 -> multiplier 2\n",
      "sequence length 0 -> multiplier 1\n",
      "sequence length 4 -> multiplier 7\n",
      "sequence length 1 -> multiplier 1\n",
      "sequence length 0 -> multiplier 1\n",
      "sequence length 4 -> multiplier 7\n",
      "Possible paths:  19208\n"
     ]
    }
   ],
   "source": [
    "paths = 1\n",
    "for i in distance:\n",
    "    paths = paths*permutations[i]\n",
    "    print('sequence length', i, '-> multiplier',permutations[i])\n",
    "print('Possible paths: ',paths) # 19208 expected for test set"
   ]
  },
  {
   "cell_type": "markdown",
   "metadata": {},
   "source": [
    "Works like a charm.."
   ]
  },
  {
   "cell_type": "markdown",
   "metadata": {},
   "source": [
    "### Look at stride distribution in real data"
   ]
  },
  {
   "cell_type": "code",
   "execution_count": 12,
   "metadata": {},
   "outputs": [
    {
     "data": {
      "text/plain": [
       "[1, 1, 3, 1, 3, 3, 1, 1, 1, 1, 3, 1, 1, 3, 1, 1, 1, 1, 3, 1]"
      ]
     },
     "execution_count": 12,
     "metadata": {},
     "output_type": "execute_result"
    }
   ],
   "source": [
    "file = '2020-12-10_input.txt'  \n",
    "with open(file) as f:\n",
    "    records = f.read().split('\\n')\n",
    "    \n",
    "records = [int(x) for x in records[:-1]]\n",
    "records.append(0) # before first step\n",
    "records.sort()\n",
    "adapters = [i-j for i, j in zip(records[1:],records[:-1])] # first difference\n",
    "adapters[0:20]"
   ]
  },
  {
   "cell_type": "code",
   "execution_count": 13,
   "metadata": {},
   "outputs": [
    {
     "data": {
      "text/plain": [
       "[2, 1, 0, 4, 2, 4, 1, 2, 1, 4, 4, 0, 4, 4, 4, 0, 3, 2, 4, 4, 4, 2, 4, 4, 4]"
      ]
     },
     "execution_count": 13,
     "metadata": {},
     "output_type": "execute_result"
    }
   ],
   "source": [
    "distance = []\n",
    "c = 0\n",
    "for i in adapters:\n",
    "    if i == 1:\n",
    "        c+=1\n",
    "    else: \n",
    "        distance.append(c)\n",
    "        c=0\n",
    "distance.append(c)\n",
    "distance"
   ]
  },
  {
   "cell_type": "markdown",
   "metadata": {},
   "source": [
    "Ha, we are already covered with 0..4 :-)"
   ]
  },
  {
   "cell_type": "code",
   "execution_count": 14,
   "metadata": {},
   "outputs": [],
   "source": [
    "permutations = {\n",
    "    4:7,\n",
    "    3:4,\n",
    "    2:2,\n",
    "    1:1,\n",
    "    0:1\n",
    "}"
   ]
  },
  {
   "cell_type": "code",
   "execution_count": 15,
   "metadata": {},
   "outputs": [
    {
     "name": "stdout",
     "output_type": "stream",
     "text": [
      "sequence length 2 -> multiplier 2\n",
      "sequence length 1 -> multiplier 1\n",
      "sequence length 0 -> multiplier 1\n",
      "sequence length 4 -> multiplier 7\n",
      "sequence length 2 -> multiplier 2\n",
      "sequence length 4 -> multiplier 7\n",
      "sequence length 1 -> multiplier 1\n",
      "sequence length 2 -> multiplier 2\n",
      "sequence length 1 -> multiplier 1\n",
      "sequence length 4 -> multiplier 7\n",
      "sequence length 4 -> multiplier 7\n",
      "sequence length 0 -> multiplier 1\n",
      "sequence length 4 -> multiplier 7\n",
      "sequence length 4 -> multiplier 7\n",
      "sequence length 4 -> multiplier 7\n",
      "sequence length 0 -> multiplier 1\n",
      "sequence length 3 -> multiplier 4\n",
      "sequence length 2 -> multiplier 2\n",
      "sequence length 4 -> multiplier 7\n",
      "sequence length 4 -> multiplier 7\n",
      "sequence length 4 -> multiplier 7\n",
      "sequence length 2 -> multiplier 2\n",
      "sequence length 4 -> multiplier 7\n",
      "sequence length 4 -> multiplier 7\n",
      "sequence length 4 -> multiplier 7\n",
      "Possible paths:  12401793332096\n"
     ]
    }
   ],
   "source": [
    "paths = 1\n",
    "for i in distance:\n",
    "    paths = paths*permutations[i]\n",
    "    print('sequence length', i, '-> multiplier',permutations[i])\n",
    "print('Possible paths: ',paths) # 19208 expected for test set"
   ]
  },
  {
   "cell_type": "code",
   "execution_count": null,
   "metadata": {},
   "outputs": [],
   "source": []
  }
 ],
 "metadata": {
  "kernelspec": {
   "display_name": "Python 3",
   "language": "python",
   "name": "python3"
  },
  "language_info": {
   "codemirror_mode": {
    "name": "ipython",
    "version": 3
   },
   "file_extension": ".py",
   "mimetype": "text/x-python",
   "name": "python",
   "nbconvert_exporter": "python",
   "pygments_lexer": "ipython3",
   "version": "3.7.7"
  }
 },
 "nbformat": 4,
 "nbformat_minor": 4
}
