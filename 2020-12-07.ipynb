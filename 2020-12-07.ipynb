{
 "cells": [
  {
   "cell_type": "markdown",
   "metadata": {},
   "source": [
    "https://adventofcode.com/2020/day/7"
   ]
  },
  {
   "cell_type": "code",
   "execution_count": 1,
   "metadata": {},
   "outputs": [
    {
     "data": {
      "text/plain": [
       "595"
      ]
     },
     "execution_count": 1,
     "metadata": {},
     "output_type": "execute_result"
    }
   ],
   "source": [
    "with open('2020-12-07_input.txt') as f:\n",
    "    records = f.read().split('\\n')\n",
    "len(records)"
   ]
  },
  {
   "cell_type": "code",
   "execution_count": 2,
   "metadata": {},
   "outputs": [],
   "source": [
    "records = [x.replace('.','') for x in records] # remove \".\"\n",
    "records = [x.replace('bags','bag') for x in records] # remove \".\""
   ]
  },
  {
   "cell_type": "code",
   "execution_count": 3,
   "metadata": {},
   "outputs": [
    {
     "data": {
      "text/plain": [
       "['plaid beige bag contain 3 drab magenta bag',\n",
       " 'dim silver bag contain 2 shiny chartreuse bag, 4 dull magenta bag',\n",
       " 'bright silver bag contain 2 faded maroon bag',\n",
       " 'shiny cyan bag contain 4 plaid green bag, 4 dim coral bag, 4 dull indigo bag',\n",
       " 'shiny orange bag contain 3 dim cyan bag, 1 mirrored beige bag, 5 pale orange bag']"
      ]
     },
     "execution_count": 3,
     "metadata": {},
     "output_type": "execute_result"
    }
   ],
   "source": [
    "records[0:5]"
   ]
  },
  {
   "cell_type": "code",
   "execution_count": 4,
   "metadata": {},
   "outputs": [],
   "source": [
    "pc = {}\n",
    "for rule in records:\n",
    "    if rule:\n",
    "        parent, children = rule.split(' contain ')\n",
    "        node = [parent,[]]\n",
    "        if children != 'no other bags':\n",
    "            children = [x for x in children.split(', ')]\n",
    "            for child in children:\n",
    "                try:\n",
    "                    for i in range(int(child[0])):\n",
    "                        node[1].append(child[2:])\n",
    "                except: \n",
    "                    pass # catching leaf \"no other bag\"\n",
    "        pc[parent] = node[1]\n"
   ]
  },
  {
   "cell_type": "markdown",
   "metadata": {},
   "source": [
    "## First part\n",
    "How many bag colors can eventually contain at least one shiny gold bag?"
   ]
  },
  {
   "cell_type": "code",
   "execution_count": 5,
   "metadata": {},
   "outputs": [
    {
     "data": {
      "text/plain": [
       "131"
      ]
     },
     "execution_count": 5,
     "metadata": {},
     "output_type": "execute_result"
    }
   ],
   "source": [
    "search = 'shiny gold bag'\n",
    "result = []\n",
    "\n",
    "def do_search(_search):\n",
    "    for key, value in pc.items():\n",
    "        if _search in value:\n",
    "            result.append(key)\n",
    "            do_search(key)\n",
    "    \n",
    "do_search(search)\n",
    "len(set(result))"
   ]
  },
  {
   "cell_type": "markdown",
   "metadata": {},
   "source": [
    "## Second part"
   ]
  },
  {
   "cell_type": "code",
   "execution_count": 6,
   "metadata": {},
   "outputs": [],
   "source": [
    "search = 'shiny gold bag'"
   ]
  },
  {
   "cell_type": "code",
   "execution_count": 7,
   "metadata": {},
   "outputs": [],
   "source": [
    "all_bags = []\n",
    "def walk_bags(_search):\n",
    "    for bag in pc[_search]:\n",
    "        all_bags.append(bag)\n",
    "        walk_bags(bag)\n",
    "\n",
    "walk_bags(search)"
   ]
  },
  {
   "cell_type": "code",
   "execution_count": 8,
   "metadata": {},
   "outputs": [
    {
     "data": {
      "text/plain": [
       "11261"
      ]
     },
     "execution_count": 8,
     "metadata": {},
     "output_type": "execute_result"
    }
   ],
   "source": [
    "len(all_bags)"
   ]
  },
  {
   "cell_type": "code",
   "execution_count": null,
   "metadata": {},
   "outputs": [],
   "source": []
  }
 ],
 "metadata": {
  "kernelspec": {
   "display_name": "Python 3",
   "language": "python",
   "name": "python3"
  },
  "language_info": {
   "codemirror_mode": {
    "name": "ipython",
    "version": 3
   },
   "file_extension": ".py",
   "mimetype": "text/x-python",
   "name": "python",
   "nbconvert_exporter": "python",
   "pygments_lexer": "ipython3",
   "version": "3.7.7"
  }
 },
 "nbformat": 4,
 "nbformat_minor": 4
}
