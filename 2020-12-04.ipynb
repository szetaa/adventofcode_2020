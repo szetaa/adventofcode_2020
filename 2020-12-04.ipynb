{
 "cells": [
  {
   "cell_type": "markdown",
   "metadata": {},
   "source": [
    "https://adventofcode.com/2020/day/4"
   ]
  },
  {
   "cell_type": "code",
   "execution_count": 3,
   "metadata": {},
   "outputs": [],
   "source": [
    "with open('2020-12-04_input.txt') as f:\n",
    "    records = f.read().split('\\n\\n')"
   ]
  },
  {
   "cell_type": "code",
   "execution_count": 4,
   "metadata": {},
   "outputs": [
    {
     "data": {
      "text/plain": [
       "285"
      ]
     },
     "execution_count": 4,
     "metadata": {},
     "output_type": "execute_result"
    }
   ],
   "source": [
    "len(records)"
   ]
  },
  {
   "cell_type": "raw",
   "metadata": {},
   "source": [
    "byr (Birth Year)\n",
    "iyr (Issue Year)\n",
    "eyr (Expiration Year)\n",
    "hgt (Height)\n",
    "hcl (Hair Color)\n",
    "ecl (Eye Color)\n",
    "pid (Passport ID)\n",
    "cid (Country ID)"
   ]
  },
  {
   "cell_type": "code",
   "execution_count": 5,
   "metadata": {},
   "outputs": [],
   "source": [
    "expected = ['byr','iyr','eyr','hgt','hcl','ecl','pid'] #,'cid']"
   ]
  },
  {
   "cell_type": "markdown",
   "metadata": {},
   "source": [
    "## First part"
   ]
  },
  {
   "cell_type": "code",
   "execution_count": 6,
   "metadata": {},
   "outputs": [
    {
     "name": "stdout",
     "output_type": "stream",
     "text": [
      "77 208\n"
     ]
    }
   ],
   "source": [
    "invalid = 0\n",
    "valid = 0\n",
    "for record in records:\n",
    "    missing = []\n",
    "    complete = []\n",
    "    for tag in expected:\n",
    "        if tag+':' in record:\n",
    "            pass\n",
    "        else:\n",
    "            missing.append(tag)\n",
    "    if (len(missing)>0):\n",
    "        invalid+=1\n",
    "    else:\n",
    "        valid+=1\n",
    "print(invalid,valid)"
   ]
  },
  {
   "cell_type": "markdown",
   "metadata": {},
   "source": [
    "## Second part"
   ]
  },
  {
   "cell_type": "raw",
   "metadata": {},
   "source": [
    "byr (Birth Year) - four digits; at least 1920 and at most 2002.\n",
    "iyr (Issue Year) - four digits; at least 2010 and at most 2020.\n",
    "eyr (Expiration Year) - four digits; at least 2020 and at most 2030.\n",
    "hgt (Height) - a number followed by either cm or in:\n",
    "If cm, the number must be at least 150 and at most 193.\n",
    "If in, the number must be at least 59 and at most 76.\n",
    "hcl (Hair Color) - a # followed by exactly six characters 0-9 or a-f.\n",
    "ecl (Eye Color) - exactly one of: amb blu brn gry grn hzl oth.\n",
    "pid (Passport ID) - a nine-digit number, including leading zeroes.\n",
    "cid (Country ID) - ignored, missing or not."
   ]
  },
  {
   "cell_type": "code",
   "execution_count": 12,
   "metadata": {},
   "outputs": [],
   "source": [
    "expected = ['byr','iyr','eyr','hgt','hcl','ecl','pid'] #,'cid']\n",
    "\n",
    "reg_check = {\n",
    "    'byr': [(lambda x: (bool(re.match(r'^\\d{4}',x)))),\n",
    "            (lambda x: bool((int(x)>=1920 and int(x) <= 2002)))],\n",
    "    'iyr': [(lambda x: (bool(re.match(r'^\\d{4}',x)))),\n",
    "            (lambda x: bool((int(x)>=2010 and int(x) <= 2020)))],\n",
    "    'eyr': [(lambda x: (bool(re.match(r'^\\d{4}',x)))),\n",
    "            (lambda x: ((int(x)>=2020 and int(x) <= 2030)))],\n",
    "    'hgt': [(lambda x: bool(x[-2:] in ['cm','in'])),\n",
    "            (lambda x: bool(59<=int(x[0:(len(x)-2)])<=76) if ((x[-2:]) == 'in') else True),\n",
    "            (lambda x: bool(150<=int(x[0:(len(x)-2)])<=193) if ((x[-2:]) == 'cm') else True)],\n",
    "    'hcl': [(lambda x: (bool(re.match(r'^#[0-9a-f]{6}$',x))))],\n",
    "    'ecl': [(lambda x: (bool(x in ['amb','blu','brn','gry','grn','hzl','oth'])))],\n",
    "    'pid': [(lambda x: (bool(re.match(r'^[0-9]{9}$',x))))]\n",
    "}\n",
    "\n",
    "result = []\n",
    "\n",
    "import re\n",
    "for record in records:\n",
    "    r = re.split(' |\\n', record)\n",
    "    res = 0\n",
    "    for exp_tag in expected:\n",
    "        if exp_tag+':' in record:\n",
    "            pass\n",
    "        else:\n",
    "            res=1   \n",
    "    for tag in r:\n",
    "        tag = tag.split(':')\n",
    "        if tag[0] in expected:\n",
    "            #print(tag)\n",
    "            try:\n",
    "                for check in reg_check[tag[0]]:\n",
    "                    if check(tag[1]):\n",
    "                        pass\n",
    "                    else:\n",
    "                        #print('FAIL',tag,check(tag[1]))\n",
    "                        res=1\n",
    "            except:\n",
    "                res=1\n",
    "    result.append(res)\n",
    "    #print('NEW:')"
   ]
  },
  {
   "cell_type": "code",
   "execution_count": 13,
   "metadata": {},
   "outputs": [
    {
     "data": {
      "text/plain": [
       "(285, 118)"
      ]
     },
     "execution_count": 13,
     "metadata": {},
     "output_type": "execute_result"
    }
   ],
   "source": [
    "len(result),sum(result)"
   ]
  },
  {
   "cell_type": "code",
   "execution_count": 14,
   "metadata": {},
   "outputs": [
    {
     "data": {
      "text/plain": [
       "167"
      ]
     },
     "execution_count": 14,
     "metadata": {},
     "output_type": "execute_result"
    }
   ],
   "source": [
    "len(result)-sum(result)"
   ]
  },
  {
   "cell_type": "code",
   "execution_count": null,
   "metadata": {},
   "outputs": [],
   "source": []
  }
 ],
 "metadata": {
  "kernelspec": {
   "display_name": "Python 3",
   "language": "python",
   "name": "python3"
  },
  "language_info": {
   "codemirror_mode": {
    "name": "ipython",
    "version": 3
   },
   "file_extension": ".py",
   "mimetype": "text/x-python",
   "name": "python",
   "nbconvert_exporter": "python",
   "pygments_lexer": "ipython3",
   "version": "3.7.7"
  }
 },
 "nbformat": 4,
 "nbformat_minor": 4
}
