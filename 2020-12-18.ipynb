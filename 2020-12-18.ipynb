{
 "cells": [
  {
   "cell_type": "markdown",
   "metadata": {},
   "source": [
    "https://adventofcode.com/2020/day/18"
   ]
  },
  {
   "cell_type": "code",
   "execution_count": 1,
   "metadata": {},
   "outputs": [
    {
     "data": {
      "text/plain": [
       "['(4 * (3 * 2 + 2) * (9 * 7 * 5 * 4 * 9) * (7 * 7 + 7 * 4 + 9)) + 6 * 4 + 8 + ((6 * 5) * 4 * (2 * 8 + 4 + 7 * 9 + 3) * 2 + 6) + 3',\n",
       " '(3 * 2 + (6 + 4 + 3 * 6 * 4 * 8) * 4 + 4) + 2',\n",
       " '(9 * 8 * 4 * 8 * (4 + 8 + 7 + 7 * 5) + 3) * 5']"
      ]
     },
     "execution_count": 1,
     "metadata": {},
     "output_type": "execute_result"
    }
   ],
   "source": [
    "file = '2020-12-18_input.txt'  \n",
    "with open(file) as f:\n",
    "    records = f.read().split('\\n')[:-1]\n",
    "records[0:3]"
   ]
  },
  {
   "cell_type": "markdown",
   "metadata": {},
   "source": [
    "## First part"
   ]
  },
  {
   "cell_type": "code",
   "execution_count": 2,
   "metadata": {},
   "outputs": [],
   "source": [
    "import re\n",
    "def do_calc(s):\n",
    "    r = 0\n",
    "    o = '+'\n",
    "    s = s.replace('*',' * ').replace('+',' + ').replace('(',' ( ').replace(')',' ) ')\n",
    "    for e in s.split(' '):\n",
    "        if e.isdigit():\n",
    "            r = eval(f'r{o}{e}')\n",
    "        if e in ['*','+','-','/']:\n",
    "            o = e\n",
    "    return r\n",
    "\n",
    "def walk_brackets(s, verbose = False):\n",
    "    if verbose:\n",
    "        print(s)\n",
    "    brackets = []\n",
    "    bo = [i for i,x in enumerate(s) if x == '('] # opening brackets\n",
    "    bc = [i for i,x in enumerate(s) if x == ')'] # closing brackets\n",
    "\n",
    "    for i,e in enumerate(bc):\n",
    "        this_open = [x for x in bo if x < e][-1]\n",
    "        bo.remove(this_open)\n",
    "        this_close = e\n",
    "        brackets.append([this_open,this_close])\n",
    "    for i in brackets:\n",
    "        r = str(do_calc(s[i[0]:i[1]+1]))\n",
    "        s = f'{s[:i[0]]}{r.ljust(i[1]-i[0]+1)}{s[i[1]+1:]}'\n",
    "        if verbose:\n",
    "            print(s)\n",
    "    if verbose:\n",
    "        print(s)\n",
    "    return do_calc(s)"
   ]
  },
  {
   "cell_type": "code",
   "execution_count": 3,
   "metadata": {},
   "outputs": [
    {
     "name": "stdout",
     "output_type": "stream",
     "text": [
      "5 + (8 * 3 + 9 + 3 * 4 * 3)\n",
      "5 + 432                    \n",
      "5 + 432                    \n"
     ]
    },
    {
     "data": {
      "text/plain": [
       "437"
      ]
     },
     "execution_count": 3,
     "metadata": {},
     "output_type": "execute_result"
    }
   ],
   "source": [
    "s = '5 + (8 * 3 + 9 + 3 * 4 * 3)' # expected = 437\n",
    "walk_brackets(s,verbose=True)"
   ]
  },
  {
   "cell_type": "code",
   "execution_count": 4,
   "metadata": {},
   "outputs": [
    {
     "name": "stdout",
     "output_type": "stream",
     "text": [
      "((2 + 4 * 9) * (6 + 9 * 8 + 6) + 6) + 2 + 4 * 2\n",
      "(54          * (6 + 9 * 8 + 6) + 6) + 2 + 4 * 2\n",
      "(54          * 126             + 6) + 2 + 4 * 2\n",
      "6810                                + 2 + 4 * 2\n",
      "6810                                + 2 + 4 * 2\n"
     ]
    },
    {
     "data": {
      "text/plain": [
       "13632"
      ]
     },
     "execution_count": 4,
     "metadata": {},
     "output_type": "execute_result"
    }
   ],
   "source": [
    "s = '((2 + 4 * 9) * (6 + 9 * 8 + 6) + 6) + 2 + 4 * 2' # expected = 13632\n",
    "walk_brackets(s,verbose=True)"
   ]
  },
  {
   "cell_type": "code",
   "execution_count": 5,
   "metadata": {},
   "outputs": [
    {
     "data": {
      "text/plain": [
       "15285807527593"
      ]
     },
     "execution_count": 5,
     "metadata": {},
     "output_type": "execute_result"
    }
   ],
   "source": [
    "result = 0\n",
    "for exercise in records:\n",
    "    result += walk_brackets(exercise)\n",
    "result"
   ]
  },
  {
   "cell_type": "markdown",
   "metadata": {},
   "source": [
    "## Second part"
   ]
  },
  {
   "cell_type": "code",
   "execution_count": null,
   "metadata": {},
   "outputs": [],
   "source": []
  }
 ],
 "metadata": {
  "kernelspec": {
   "display_name": "Python 3",
   "language": "python",
   "name": "python3"
  },
  "language_info": {
   "codemirror_mode": {
    "name": "ipython",
    "version": 3
   },
   "file_extension": ".py",
   "mimetype": "text/x-python",
   "name": "python",
   "nbconvert_exporter": "python",
   "pygments_lexer": "ipython3",
   "version": "3.7.7"
  }
 },
 "nbformat": 4,
 "nbformat_minor": 4
}
