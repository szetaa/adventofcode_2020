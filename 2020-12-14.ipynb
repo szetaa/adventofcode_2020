{
 "cells": [
  {
   "cell_type": "markdown",
   "metadata": {},
   "source": [
    "https://adventofcode.com/2020/day/14"
   ]
  },
  {
   "cell_type": "code",
   "execution_count": 1,
   "metadata": {},
   "outputs": [],
   "source": [
    "file = '2020-12-14_input.txt'  \n",
    "with open(file) as f:\n",
    "    records = f.read().split('\\n')\n"
   ]
  },
  {
   "cell_type": "code",
   "execution_count": 2,
   "metadata": {},
   "outputs": [
    {
     "data": {
      "text/plain": [
       "['mask = 11X01X101X10000110110101X100000011XX',\n",
       " 'mem[30904] = 804',\n",
       " 'mem[25640] = 58672415',\n",
       " 'mem[44254] = 829902099',\n",
       " 'mask = 0100X100101000X0X01100X011100X000011']"
      ]
     },
     "execution_count": 2,
     "metadata": {},
     "output_type": "execute_result"
    }
   ],
   "source": [
    "records[0:5]"
   ]
  },
  {
   "cell_type": "markdown",
   "metadata": {},
   "source": [
    "## First part"
   ]
  },
  {
   "cell_type": "code",
   "execution_count": null,
   "metadata": {},
   "outputs": [],
   "source": [
    "records = ['mask = XXXXXXXXXXXXXXXXXXXXXXXXXXXXX1XXXX0X',\n",
    "'mem[8] = 11',\n",
    "'mem[7] = 101',\n",
    "'mem[8] = 0']\n",
    "# Expected result = 165"
   ]
  },
  {
   "cell_type": "code",
   "execution_count": 3,
   "metadata": {},
   "outputs": [
    {
     "data": {
      "text/plain": [
       "12135523360904"
      ]
     },
     "execution_count": 3,
     "metadata": {},
     "output_type": "execute_result"
    }
   ],
   "source": [
    "def b2d(b):\n",
    "    return int(b, 2)\n",
    "def d2b(d):\n",
    "    #return bin(d)[2:]\n",
    "    return format(d, 'b').zfill(36)\n",
    "\n",
    "import re\n",
    "all_mem = [0]*100000\n",
    "for r in records:\n",
    "    r = r.split(' = ')\n",
    "    if r[0] == 'mask':\n",
    "        mask = {i : x for i,x in enumerate(r[1]) if x != 'X'}\n",
    "    if 'mem' in r[0]:\n",
    "        pos = int(re.search(r\"\\[([A-Za-z0-9_]+)\\]\", r[0]).group(1))\n",
    "        val = int(r[1])\n",
    "        b = d2b(val)\n",
    "        for key, value in mask.items():\n",
    "            tmp = list(b) \n",
    "            tmp[key] = str(value)\n",
    "            b = ''.join(tmp)\n",
    "        #print(pos)\n",
    "        all_mem[pos]=b2d(b)\n",
    "sum(all_mem)"
   ]
  },
  {
   "cell_type": "code",
   "execution_count": null,
   "metadata": {},
   "outputs": [],
   "source": []
  },
  {
   "cell_type": "markdown",
   "metadata": {},
   "source": [
    "## Second part"
   ]
  },
  {
   "cell_type": "code",
   "execution_count": null,
   "metadata": {},
   "outputs": [],
   "source": []
  }
 ],
 "metadata": {
  "kernelspec": {
   "display_name": "Python 3",
   "language": "python",
   "name": "python3"
  },
  "language_info": {
   "codemirror_mode": {
    "name": "ipython",
    "version": 3
   },
   "file_extension": ".py",
   "mimetype": "text/x-python",
   "name": "python",
   "nbconvert_exporter": "python",
   "pygments_lexer": "ipython3",
   "version": "3.7.7"
  }
 },
 "nbformat": 4,
 "nbformat_minor": 4
}
