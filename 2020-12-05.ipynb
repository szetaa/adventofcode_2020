{
 "cells": [
  {
   "cell_type": "markdown",
   "metadata": {},
   "source": [
    "https://adventofcode.com/2020/day/5"
   ]
  },
  {
   "cell_type": "code",
   "execution_count": 1,
   "metadata": {},
   "outputs": [],
   "source": [
    "with open('2020-12-05_input.txt') as f:\n",
    "    records = f.read().split()"
   ]
  },
  {
   "cell_type": "code",
   "execution_count": 2,
   "metadata": {},
   "outputs": [
    {
     "data": {
      "text/plain": [
       "['FFBBFFFLRL', 'FFBBFBBRRL', 'FBBBFFBLRL', 'BBFBFFBLRR', 'BFBBBFFLLL']"
      ]
     },
     "execution_count": 2,
     "metadata": {},
     "output_type": "execute_result"
    }
   ],
   "source": [
    "records[0:5]"
   ]
  },
  {
   "cell_type": "markdown",
   "metadata": {},
   "source": [
    "## First part"
   ]
  },
  {
   "cell_type": "raw",
   "metadata": {},
   "source": [
    "So, decoding FBFBBFFRLR reveals that it is the seat at row 44, column 5."
   ]
  },
  {
   "cell_type": "raw",
   "metadata": {},
   "source": [
    "Start by considering the whole range, rows 0 through 127.\n",
    "F means to take the lower half, keeping rows 0 through 63.\n",
    "B means to take the upper half, keeping rows 32 through 63.\n",
    "F means to take the lower half, keeping rows 32 through 47.\n",
    "B means to take the upper half, keeping rows 40 through 47.\n",
    "B keeps rows 44 through 47.\n",
    "F keeps rows 44 through 45.\n",
    "The final F keeps the lower of the two, row 44."
   ]
  },
  {
   "cell_type": "code",
   "execution_count": 3,
   "metadata": {},
   "outputs": [],
   "source": [
    "def getSeat(sample):\n",
    "    f=0\n",
    "    b=127\n",
    "    l=0\n",
    "    r=7\n",
    "    for i in sample:\n",
    "        if i=='F':\n",
    "            b=b-(b-f)/2\n",
    "        if i=='B':\n",
    "            f=f+(b-f)/2\n",
    "        if i=='L':\n",
    "            r=r-(r-l)/2\n",
    "        if i=='R':\n",
    "            l=l+(r-l)/2\n",
    "    row = round(((b+f)/2),0)\n",
    "    column = round(((l+r)/2),0)\n",
    "    seat = row*8+column\n",
    "    return row,column,seat"
   ]
  },
  {
   "cell_type": "code",
   "execution_count": 4,
   "metadata": {},
   "outputs": [
    {
     "data": {
      "text/plain": [
       "(44.0, 5.0, 357.0)"
      ]
     },
     "execution_count": 4,
     "metadata": {},
     "output_type": "execute_result"
    }
   ],
   "source": [
    "# Unit test expected: Row 44, Column 5, seat 357\n",
    "getSeat('FBFBBFFRLR')"
   ]
  },
  {
   "cell_type": "code",
   "execution_count": 5,
   "metadata": {},
   "outputs": [],
   "source": [
    "seats = []\n",
    "for record in records:\n",
    "    seats.append(getSeat(record)[2])"
   ]
  },
  {
   "cell_type": "code",
   "execution_count": 6,
   "metadata": {},
   "outputs": [
    {
     "data": {
      "text/plain": [
       "947.0"
      ]
     },
     "execution_count": 6,
     "metadata": {},
     "output_type": "execute_result"
    }
   ],
   "source": [
    "max(seats)"
   ]
  },
  {
   "cell_type": "markdown",
   "metadata": {},
   "source": [
    "## Second part"
   ]
  },
  {
   "cell_type": "code",
   "execution_count": 7,
   "metadata": {},
   "outputs": [
    {
     "name": "stdout",
     "output_type": "stream",
     "text": [
      "[635.0, 637.0]\n"
     ]
    }
   ],
   "source": [
    "seats.sort()\n",
    "#zip(seats[1:],seats[:-1])\n",
    "\n",
    "pos = ([x - y for (x, y) in zip(seats[1:],seats[:-1])]).index(2)\n",
    "print(seats[pos:(pos+2)])"
   ]
  },
  {
   "cell_type": "raw",
   "metadata": {},
   "source": [
    "Our seat is 636"
   ]
  }
 ],
 "metadata": {
  "kernelspec": {
   "display_name": "Python 3",
   "language": "python",
   "name": "python3"
  },
  "language_info": {
   "codemirror_mode": {
    "name": "ipython",
    "version": 3
   },
   "file_extension": ".py",
   "mimetype": "text/x-python",
   "name": "python",
   "nbconvert_exporter": "python",
   "pygments_lexer": "ipython3",
   "version": "3.7.7"
  }
 },
 "nbformat": 4,
 "nbformat_minor": 4
}
