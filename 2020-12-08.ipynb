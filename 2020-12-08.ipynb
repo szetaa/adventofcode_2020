{
 "cells": [
  {
   "cell_type": "markdown",
   "metadata": {},
   "source": [
    "https://adventofcode.com/2020/day/8"
   ]
  },
  {
   "cell_type": "code",
   "execution_count": 1,
   "metadata": {},
   "outputs": [
    {
     "data": {
      "text/plain": [
       "654"
      ]
     },
     "execution_count": 1,
     "metadata": {},
     "output_type": "execute_result"
    }
   ],
   "source": [
    "file = '2020-12-08_input.txt' # '2020-12-08_input.txt'\n",
    "with open(file) as f:\n",
    "    records = f.read().split('\\n')\n",
    "    \n",
    "records = [x.split(' ') for x in records]\n",
    "records = records[:-1]\n",
    "len(records)"
   ]
  },
  {
   "cell_type": "code",
   "execution_count": 2,
   "metadata": {},
   "outputs": [
    {
     "data": {
      "text/plain": [
       "[['acc', '+45'],\n",
       " ['nop', '+631'],\n",
       " ['acc', '+12'],\n",
       " ['acc', '-10'],\n",
       " ['jmp', '+127']]"
      ]
     },
     "execution_count": 2,
     "metadata": {},
     "output_type": "execute_result"
    }
   ],
   "source": [
    "records[0:5]"
   ]
  },
  {
   "cell_type": "markdown",
   "metadata": {},
   "source": [
    "## First part"
   ]
  },
  {
   "cell_type": "code",
   "execution_count": 3,
   "metadata": {},
   "outputs": [
    {
     "name": "stdout",
     "output_type": "stream",
     "text": [
      "Position: 10 Accumulated: 1600\n"
     ]
    }
   ],
   "source": [
    "visited = []\n",
    "p = 0\n",
    "c = 0\n",
    "#for i in range(len(records)):\n",
    "while True:\n",
    "    if p in visited:\n",
    "        print('Position:',p,'Accumulated:',c)\n",
    "        break\n",
    "    visited.append(p)\n",
    "    if records[p][0] == 'acc':\n",
    "        c+=int(records[p][1])\n",
    "        p+=1\n",
    "    if records[p][0] == 'nop':\n",
    "        p+=1\n",
    "    if records[p][0] == 'jmp':\n",
    "        p+=int(records[p][1])"
   ]
  },
  {
   "cell_type": "markdown",
   "metadata": {},
   "source": [
    "## Second part"
   ]
  },
  {
   "cell_type": "code",
   "execution_count": 4,
   "metadata": {},
   "outputs": [],
   "source": [
    "import copy\n",
    "records_backup = copy.deepcopy(records)"
   ]
  },
  {
   "cell_type": "code",
   "execution_count": 5,
   "metadata": {},
   "outputs": [
    {
     "name": "stdout",
     "output_type": "stream",
     "text": [
      "DONE! Flipping position: 654 Accumulated: 1543\n"
     ]
    }
   ],
   "source": [
    "records = copy.deepcopy(records_backup)\n",
    "done = False\n",
    "for i in range(len(records)):\n",
    "    records = copy.deepcopy(records_backup)\n",
    "    if records[i][0] in ['nop','jmp']:\n",
    "        if records[i][0] == 'nop':\n",
    "            records[i][0] = 'jmp'\n",
    "        elif records[i][0] == 'jmp':\n",
    "            records[i][0] = 'nop'\n",
    "        visited = []\n",
    "        p = 0\n",
    "        c = 0\n",
    "        while True:\n",
    "            if p in visited:\n",
    "                #print('Position:',p,'Accumulated:',c)\n",
    "                break\n",
    "            visited.append(p)\n",
    "            if records[p][0] == 'acc':\n",
    "                c+=int(records[p][1])\n",
    "                p+=1\n",
    "            elif records[p][0] == 'nop':\n",
    "                p+=1\n",
    "            elif records[p][0] == 'jmp':\n",
    "                p+=int(records[p][1])\n",
    "            if (p > len(records)-1):\n",
    "                print('DONE!','Flipping position:',p,'Accumulated:',c)\n",
    "                done = True\n",
    "                break\n",
    "        if done:\n",
    "            break"
   ]
  },
  {
   "cell_type": "code",
   "execution_count": null,
   "metadata": {},
   "outputs": [],
   "source": []
  }
 ],
 "metadata": {
  "kernelspec": {
   "display_name": "Python 3",
   "language": "python",
   "name": "python3"
  },
  "language_info": {
   "codemirror_mode": {
    "name": "ipython",
    "version": 3
   },
   "file_extension": ".py",
   "mimetype": "text/x-python",
   "name": "python",
   "nbconvert_exporter": "python",
   "pygments_lexer": "ipython3",
   "version": "3.7.7"
  }
 },
 "nbformat": 4,
 "nbformat_minor": 4
}
