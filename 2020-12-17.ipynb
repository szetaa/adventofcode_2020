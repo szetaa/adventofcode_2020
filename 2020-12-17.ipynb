{
 "cells": [
  {
   "cell_type": "markdown",
   "metadata": {},
   "source": [
    "https://adventofcode.com/2020/day/17"
   ]
  },
  {
   "cell_type": "code",
   "execution_count": 12,
   "metadata": {},
   "outputs": [
    {
     "data": {
      "text/plain": [
       "['######.#',\n",
       " '#.###.#.',\n",
       " '###.....',\n",
       " '#.####..',\n",
       " '##.#.###',\n",
       " '.######.',\n",
       " '###.####',\n",
       " '######.#']"
      ]
     },
     "execution_count": 12,
     "metadata": {},
     "output_type": "execute_result"
    }
   ],
   "source": [
    "file = '2020-12-17_input.txt'  \n",
    "with open(file) as f:\n",
    "    records = f.read().split('\\n')[:-1]\n",
    "records"
   ]
  },
  {
   "cell_type": "markdown",
   "metadata": {},
   "source": [
    "## First part"
   ]
  },
  {
   "cell_type": "raw",
   "metadata": {},
   "source": [
    "If a cube is active and exactly 2 or 3 of its neighbors are also active, the cube remains active. Otherwise, the cube becomes inactive.\n",
    "If a cube is inactive but exactly 3 of its neighbors are active, the cube becomes active. Otherwise, the cube remains inactive."
   ]
  },
  {
   "cell_type": "code",
   "execution_count": null,
   "metadata": {},
   "outputs": [],
   "source": [
    "#records = ['.#.','..#','###'] # Test data"
   ]
  },
  {
   "cell_type": "code",
   "execution_count": 2,
   "metadata": {},
   "outputs": [
    {
     "data": {
      "text/plain": [
       "['11111101',\n",
       " '10111010',\n",
       " '11100000',\n",
       " '10111100',\n",
       " '11010111',\n",
       " '01111110',\n",
       " '11101111',\n",
       " '11111101']"
      ]
     },
     "execution_count": 2,
     "metadata": {},
     "output_type": "execute_result"
    }
   ],
   "source": [
    "records = [x.replace('#','1') for x in records]\n",
    "records = [x.replace('.','0') for x in records]\n",
    "records"
   ]
  },
  {
   "cell_type": "code",
   "execution_count": 3,
   "metadata": {},
   "outputs": [
    {
     "data": {
      "text/plain": [
       "array([[1, 1, 1, 1, 1, 1, 0, 1],\n",
       "       [1, 0, 1, 1, 1, 0, 1, 0],\n",
       "       [1, 1, 1, 0, 0, 0, 0, 0],\n",
       "       [1, 0, 1, 1, 1, 1, 0, 0],\n",
       "       [1, 1, 0, 1, 0, 1, 1, 1],\n",
       "       [0, 1, 1, 1, 1, 1, 1, 0],\n",
       "       [1, 1, 1, 0, 1, 1, 1, 1],\n",
       "       [1, 1, 1, 1, 1, 1, 0, 1]])"
      ]
     },
     "execution_count": 3,
     "metadata": {},
     "output_type": "execute_result"
    }
   ],
   "source": [
    "import numpy as np\n",
    "a = np.array([list(x) for x in records]).astype(np.int)\n",
    "a"
   ]
  },
  {
   "cell_type": "code",
   "execution_count": 4,
   "metadata": {},
   "outputs": [],
   "source": [
    "numdim = 20\n",
    "dx = numdim\n",
    "dy = numdim\n",
    "dz = numdim\n",
    "q1 = np.zeros([2,dx,dy,dz])\n",
    "q1[0,numdim//2,numdim//2-4:numdim//2+4,numdim//2-4:numdim//2+4] = a"
   ]
  },
  {
   "cell_type": "code",
   "execution_count": 5,
   "metadata": {},
   "outputs": [
    {
     "name": "stdout",
     "output_type": "stream",
     "text": [
      "273.0\n",
      "448.0\n"
     ]
    }
   ],
   "source": [
    "for i in range(6):\n",
    "    if i%2 == 0:\n",
    "        sd = 0\n",
    "        td = 1\n",
    "    else:\n",
    "        sd = 1\n",
    "        td = 0\n",
    "    for x in range(dx):\n",
    "        for y in range(dy):\n",
    "            for z in range(dz):\n",
    "                c = q1[sd,x,y,z]\n",
    "                s = np.sum(q1[sd,x-1:x+2,y-1:y+2,z-1:z+2])-c\n",
    "                q1[td,x,y,z] = c\n",
    "                if (c == 0) and (s == 3):\n",
    "                    q1[td,x,y,z] = 1\n",
    "                if (c == 1) and (s not in [2,3]):\n",
    "                    q1[td,x,y,z] = 0\n",
    "print(np.sum(q1[sd,:,:,:]))\n",
    "print(np.sum(q1[td,:,:,:]))"
   ]
  },
  {
   "cell_type": "markdown",
   "metadata": {},
   "source": [
    "## Second part"
   ]
  },
  {
   "cell_type": "code",
   "execution_count": 6,
   "metadata": {},
   "outputs": [],
   "source": [
    "#records = ['.#.','..#','###'] # Test data"
   ]
  },
  {
   "cell_type": "code",
   "execution_count": 13,
   "metadata": {},
   "outputs": [
    {
     "data": {
      "text/plain": [
       "['11111101',\n",
       " '10111010',\n",
       " '11100000',\n",
       " '10111100',\n",
       " '11010111',\n",
       " '01111110',\n",
       " '11101111',\n",
       " '11111101']"
      ]
     },
     "execution_count": 13,
     "metadata": {},
     "output_type": "execute_result"
    }
   ],
   "source": [
    "records = [x.replace('#','1') for x in records]\n",
    "records = [x.replace('.','0') for x in records]\n",
    "records"
   ]
  },
  {
   "cell_type": "code",
   "execution_count": 14,
   "metadata": {},
   "outputs": [
    {
     "data": {
      "text/plain": [
       "array([[1, 1, 1, 1, 1, 1, 0, 1],\n",
       "       [1, 0, 1, 1, 1, 0, 1, 0],\n",
       "       [1, 1, 1, 0, 0, 0, 0, 0],\n",
       "       [1, 0, 1, 1, 1, 1, 0, 0],\n",
       "       [1, 1, 0, 1, 0, 1, 1, 1],\n",
       "       [0, 1, 1, 1, 1, 1, 1, 0],\n",
       "       [1, 1, 1, 0, 1, 1, 1, 1],\n",
       "       [1, 1, 1, 1, 1, 1, 0, 1]])"
      ]
     },
     "execution_count": 14,
     "metadata": {},
     "output_type": "execute_result"
    }
   ],
   "source": [
    "import numpy as np\n",
    "a = np.array([list(x) for x in records]).astype(np.int)\n",
    "a"
   ]
  },
  {
   "cell_type": "code",
   "execution_count": 17,
   "metadata": {},
   "outputs": [],
   "source": [
    "numdim = 20\n",
    "dw = numdim\n",
    "dx = numdim\n",
    "dy = numdim\n",
    "dz = numdim\n",
    "q1 = np.zeros([2,dw,dx,dy,dz])\n",
    "q1[0,numdim//2,numdim//2,numdim//2-4:numdim//2+4,numdim//2-4:numdim//2+4] = a"
   ]
  },
  {
   "cell_type": "code",
   "execution_count": 18,
   "metadata": {},
   "outputs": [
    {
     "name": "stdout",
     "output_type": "stream",
     "text": [
      "0 of 6\n",
      "1 of 6\n",
      "2 of 6\n",
      "3 of 6\n",
      "4 of 6\n",
      "5 of 6\n",
      "2748.0\n",
      "2400.0\n"
     ]
    }
   ],
   "source": [
    "for i in range(6):\n",
    "    print(i,'of',6)\n",
    "    if i%2 == 0:\n",
    "        sd = 0\n",
    "        td = 1\n",
    "    else:\n",
    "        sd = 1\n",
    "        td = 0\n",
    "    for w in range(dw):\n",
    "        #print(w,'of',dw)\n",
    "        for x in range(dx):\n",
    "            for y in range(dy):\n",
    "                for z in range(dz):\n",
    "                    c = q1[sd,w,x,y,z]\n",
    "                    s = np.sum(q1[sd,w-1:w+2,x-1:x+2,y-1:y+2,z-1:z+2])-c\n",
    "                    q1[td,w,x,y,z] = c\n",
    "                    if (c == 0) and (s == 3):\n",
    "                        q1[td,w,x,y,z] = 1\n",
    "                    if (c == 1) and (s not in [2,3]):\n",
    "                        q1[td,w,x,y,z] = 0\n",
    "print(np.sum(q1[sd,:,:,:,:]))\n",
    "print(np.sum(q1[td,:,:,:,:]))"
   ]
  },
  {
   "cell_type": "code",
   "execution_count": null,
   "metadata": {},
   "outputs": [],
   "source": []
  }
 ],
 "metadata": {
  "kernelspec": {
   "display_name": "Python 3",
   "language": "python",
   "name": "python3"
  },
  "language_info": {
   "codemirror_mode": {
    "name": "ipython",
    "version": 3
   },
   "file_extension": ".py",
   "mimetype": "text/x-python",
   "name": "python",
   "nbconvert_exporter": "python",
   "pygments_lexer": "ipython3",
   "version": "3.7.7"
  }
 },
 "nbformat": 4,
 "nbformat_minor": 4
}
