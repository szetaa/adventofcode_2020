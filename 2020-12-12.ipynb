{
 "cells": [
  {
   "cell_type": "markdown",
   "metadata": {},
   "source": [
    "https://adventofcode.com/2020/day/12"
   ]
  },
  {
   "cell_type": "code",
   "execution_count": 1,
   "metadata": {},
   "outputs": [
    {
     "data": {
      "text/plain": [
       "787"
      ]
     },
     "execution_count": 1,
     "metadata": {},
     "output_type": "execute_result"
    }
   ],
   "source": [
    "file = '2020-12-12_input.txt'  #2020-12-11_input.txt\n",
    "with open(file) as f:\n",
    "    records = f.read().split('\\n')\n",
    "    \n",
    "records = [x for x in records[:-1]]\n",
    "len(records)"
   ]
  },
  {
   "cell_type": "code",
   "execution_count": 2,
   "metadata": {},
   "outputs": [
    {
     "data": {
      "text/plain": [
       "['F77', 'E4', 'S2', 'W1', 'L180', 'N4', 'R180', 'S3', 'W5', 'F86']"
      ]
     },
     "execution_count": 2,
     "metadata": {},
     "output_type": "execute_result"
    }
   ],
   "source": [
    "records[0:10]"
   ]
  },
  {
   "cell_type": "markdown",
   "metadata": {},
   "source": [
    "## First part"
   ]
  },
  {
   "cell_type": "code",
   "execution_count": null,
   "metadata": {},
   "outputs": [],
   "source": [
    "# Test data\n",
    "#records = ['F10','N3','F7','R90','F11']\n",
    "# 17 + 8 = 25"
   ]
  },
  {
   "cell_type": "markdown",
   "metadata": {},
   "source": [
    " - Action N means to move north by the given value.\n",
    " - Action S means to move south by the given value.\n",
    " - Action E means to move east by the given value.\n",
    " - Action W means to move west by the given value.\n",
    " - Action L means to turn left the given number of degrees.\n",
    " - Action R means to turn right the given number of degrees.\n",
    " - Action F means to move forward by the given value in the direction the"
   ]
  },
  {
   "cell_type": "code",
   "execution_count": 3,
   "metadata": {},
   "outputs": [],
   "source": [
    "# Check assumptions that we only receive rectangular instructions\n",
    "for i in records:\n",
    "    if i[0] in ['L','R']:\n",
    "        if (int(i[1:])%90 != 0):\n",
    "            print(i)"
   ]
  },
  {
   "cell_type": "code",
   "execution_count": 4,
   "metadata": {},
   "outputs": [],
   "source": [
    "def move(x,y,d,m):\n",
    "    a = m[0] # action\n",
    "    l = int(m[1:]) # length\n",
    "    if a == 'N':\n",
    "        y = y+l\n",
    "    if a == 'S':\n",
    "        y = y-l\n",
    "    if a == 'E':\n",
    "        x = x+l\n",
    "    if a == 'W':\n",
    "        x = x-l\n",
    "    if a == 'L':\n",
    "        d = d-l\n",
    "    if a == 'R':\n",
    "        d = d+l\n",
    "    if a == 'F':\n",
    "        if d%360 == 0:\n",
    "            y = y+l\n",
    "        if d%360 == 180:\n",
    "            y = y-l\n",
    "        if d%360 == 90:\n",
    "            x = x+l\n",
    "        if d%360 == 270:\n",
    "            x = x-l\n",
    "    return x,y,d"
   ]
  },
  {
   "cell_type": "code",
   "execution_count": 5,
   "metadata": {},
   "outputs": [
    {
     "data": {
      "text/plain": [
       "1106"
      ]
     },
     "execution_count": 5,
     "metadata": {},
     "output_type": "execute_result"
    }
   ],
   "source": [
    "x = 0\n",
    "y = 0\n",
    "d = 90\n",
    "for instruction in records:\n",
    "    x,y,d = move(x,y,d,instruction)\n",
    "abs(x)+abs(y)"
   ]
  },
  {
   "cell_type": "markdown",
   "metadata": {},
   "source": [
    "## Second part"
   ]
  },
  {
   "cell_type": "code",
   "execution_count": null,
   "metadata": {},
   "outputs": [],
   "source": [
    "# Test data\n",
    "#records = ['F10','N3','F7','R90','F11']\n",
    "# 214 + 72 = 286"
   ]
  },
  {
   "cell_type": "code",
   "execution_count": 6,
   "metadata": {},
   "outputs": [
    {
     "data": {
      "text/plain": [
       "787"
      ]
     },
     "execution_count": 6,
     "metadata": {},
     "output_type": "execute_result"
    }
   ],
   "source": [
    "file = '2020-12-12_input.txt'  #2020-12-11_input.txt\n",
    "with open(file) as f:\n",
    "    records = f.read().split('\\n')\n",
    "    \n",
    "records = [x for x in records[:-1]]\n",
    "len(records)"
   ]
  },
  {
   "cell_type": "code",
   "execution_count": 7,
   "metadata": {},
   "outputs": [],
   "source": [
    "def move_waypoint(wp_x, wp_y, pos_x, pos_y,move):\n",
    "    a = move[0] # action\n",
    "    l = int(move[1:]) # length\n",
    "    if a == 'N':\n",
    "        wp_y = wp_y+l\n",
    "    if a == 'S':\n",
    "        wp_y = wp_y-l\n",
    "    if a == 'E':\n",
    "        wp_x = wp_x+l\n",
    "    if a == 'W':\n",
    "        wp_x = wp_x-l\n",
    "    if a == 'R':\n",
    "        for _ in range((l//90)):\n",
    "            tmp_x = wp_x\n",
    "            tmp_y = wp_y\n",
    "            wp_x = tmp_y\n",
    "            wp_y = -tmp_x                        \n",
    "    if a == 'L':\n",
    "        for _ in range((l//90)):\n",
    "            tmp_x = wp_x\n",
    "            tmp_y = wp_y\n",
    "            wp_x = -tmp_y\n",
    "            wp_y = tmp_x\n",
    "    if a == 'F':\n",
    "        pos_x = pos_x + wp_x * l\n",
    "        pos_y = pos_y + wp_y * l\n",
    "    #print(move,wp_x, wp_y, pos_x, pos_y)\n",
    "    return wp_x, wp_y, pos_x, pos_y"
   ]
  },
  {
   "cell_type": "code",
   "execution_count": 8,
   "metadata": {},
   "outputs": [
    {
     "data": {
      "text/plain": [
       "107281"
      ]
     },
     "execution_count": 8,
     "metadata": {},
     "output_type": "execute_result"
    }
   ],
   "source": [
    "wp_x = 10\n",
    "wp_y = 1\n",
    "pos_x = 0\n",
    "pos_y = 0\n",
    "for instruction in records:\n",
    "    wp_x, wp_y, pos_x, pos_y = move_waypoint(wp_x,wp_y,pos_x, pos_y,instruction)\n",
    "abs(pos_x)+abs(pos_y)"
   ]
  },
  {
   "cell_type": "code",
   "execution_count": null,
   "metadata": {},
   "outputs": [],
   "source": []
  }
 ],
 "metadata": {
  "kernelspec": {
   "display_name": "Python 3",
   "language": "python",
   "name": "python3"
  },
  "language_info": {
   "codemirror_mode": {
    "name": "ipython",
    "version": 3
   },
   "file_extension": ".py",
   "mimetype": "text/x-python",
   "name": "python",
   "nbconvert_exporter": "python",
   "pygments_lexer": "ipython3",
   "version": "3.7.7"
  }
 },
 "nbformat": 4,
 "nbformat_minor": 4
}
