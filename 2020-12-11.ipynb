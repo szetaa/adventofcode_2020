{
 "cells": [
  {
   "cell_type": "markdown",
   "metadata": {},
   "source": [
    "https://adventofcode.com/2020/day/11"
   ]
  },
  {
   "cell_type": "code",
   "execution_count": 1,
   "metadata": {},
   "outputs": [
    {
     "data": {
      "text/plain": [
       "98"
      ]
     },
     "execution_count": 1,
     "metadata": {},
     "output_type": "execute_result"
    }
   ],
   "source": [
    "file = '2020-12-11_input.txt'  #2020-12-11_input.txt\n",
    "with open(file) as f:\n",
    "    records = f.read().split('\\n')\n",
    "    \n",
    "records = [x for x in records[:-1]]\n",
    "len(records)"
   ]
  },
  {
   "cell_type": "markdown",
   "metadata": {},
   "source": [
    "## First part"
   ]
  },
  {
   "cell_type": "raw",
   "metadata": {},
   "source": [
    "- If a seat is empty (L) and there are no occupied seats adjacent to it, the seat becomes occupied.\n",
    "- If a seat is occupied (#) and four or more seats adjacent to it are also occupied, the seat becomes empty.\n",
    "- Otherwise, the seat's state does not change."
   ]
  },
  {
   "cell_type": "code",
   "execution_count": 2,
   "metadata": {},
   "outputs": [],
   "source": [
    "import numpy as np\n",
    "def split(line): \n",
    "    return [char for char in line]  \n",
    "a = np.array([split(x) for x in records])\n",
    "a = np.where(a=='.', np.nan, a)\n",
    "a = np.where(a=='L', 0, a)\n",
    "a = a.astype(np.float32)\n",
    "a\n",
    "b = np.zeros([a.shape[0],a.shape[1],2])\n",
    "b[:,:,0] = a"
   ]
  },
  {
   "cell_type": "code",
   "execution_count": 3,
   "metadata": {},
   "outputs": [],
   "source": [
    "def assess(x,y,z):\n",
    "    x1 = max(x-1,0)\n",
    "    x2 = min(x+2,a.shape[0])\n",
    "    y1 = max(y-1,0)\n",
    "    y2 = min(y+2,a.shape[1])\n",
    "    window = b[x1:x2,y1:y2,z]\n",
    "    #print(window)\n",
    "    \n",
    "    if np.isnan(b[x,y,z]):\n",
    "        result = np.nan\n",
    "    elif b[x,y,z] == 0:\n",
    "        result = int(np.nansum(window) < 1) \n",
    "    elif b[x,y,z] == 1:\n",
    "        result = int(np.nansum(window) < 5)\n",
    "        \n",
    "    return result\n"
   ]
  },
  {
   "cell_type": "code",
   "execution_count": 4,
   "metadata": {},
   "outputs": [
    {
     "name": "stdout",
     "output_type": "stream",
     "text": [
      "7564.0\n",
      "180.0\n",
      "7071.0\n",
      "378.0\n",
      "6544.0\n",
      "558.0\n",
      "6102.0\n",
      "735.0\n",
      "5729.0\n",
      "891.0\n",
      "5389.0\n",
      "1051.0\n",
      "5045.0\n",
      "1199.0\n",
      "4715.0\n",
      "1327.0\n",
      "4430.0\n",
      "1454.0\n",
      "4169.0\n",
      "1571.0\n",
      "3933.0\n",
      "1684.0\n",
      "3721.0\n",
      "1792.0\n",
      "3502.0\n",
      "1900.0\n",
      "3301.0\n",
      "2001.0\n",
      "3139.0\n",
      "2084.0\n",
      "2993.0\n",
      "2156.0\n",
      "2877.0\n",
      "2211.0\n",
      "2811.0\n",
      "2244.0\n",
      "2740.0\n",
      "2278.0\n",
      "2680.0\n",
      "2299.0\n",
      "2644.0\n",
      "2317.0\n",
      "2611.0\n",
      "2328.0\n",
      "2581.0\n",
      "2346.0\n",
      "2551.0\n",
      "2358.0\n",
      "2531.0\n",
      "2368.0\n",
      "2516.0\n",
      "2373.0\n",
      "2502.0\n",
      "2377.0\n",
      "2491.0\n",
      "2380.0\n",
      "2482.0\n",
      "2383.0\n",
      "2474.0\n",
      "2388.0\n",
      "2463.0\n",
      "2395.0\n",
      "2448.0\n",
      "2403.0\n",
      "2436.0\n",
      "2409.0\n",
      "2427.0\n",
      "2414.0\n",
      "2424.0\n",
      "2418.0\n",
      "2418.0\n",
      "stabilized\n"
     ]
    }
   ],
   "source": [
    "it_changes = True\n",
    "c = 0\n",
    "seated = 0\n",
    "while it_changes:\n",
    "    zs = c%2 # source\n",
    "    c+=1\n",
    "    zt = abs(zs-1)\n",
    "    for x in range(b.shape[0]):\n",
    "        for y in range(b.shape[1]):\n",
    "            b[x,y,zt] = assess(x,y,zs)\n",
    "    prev_seated = seated\n",
    "    seated = np.nansum(b[:,:,zt])\n",
    "    print(seated)\n",
    "    if prev_seated == seated:\n",
    "        print('stabilized')\n",
    "        it_changes = False"
   ]
  },
  {
   "cell_type": "markdown",
   "metadata": {},
   "source": [
    "## Second part"
   ]
  },
  {
   "cell_type": "markdown",
   "metadata": {},
   "source": [
    "Idea: \n",
    " 1. Flatten out\n",
    " 2. Calculate index of all visible fields based on compass walk (like a stendcil)\n",
    " 3. Iterate until converging"
   ]
  },
  {
   "cell_type": "markdown",
   "metadata": {},
   "source": [
    "### Flattening out"
   ]
  },
  {
   "cell_type": "code",
   "execution_count": 5,
   "metadata": {},
   "outputs": [
    {
     "name": "stdout",
     "output_type": "stream",
     "text": [
      "98 96\n"
     ]
    }
   ],
   "source": [
    "file = '2020-12-11_input.txt'  #2020-12-11_input.txt\n",
    "with open(file) as f:\n",
    "    records = f.read().split('\\n')\n",
    "    records = records[:-1] # cut empty line\n",
    "len_x = len(records)\n",
    "len_y = len(records[0])\n",
    "flat_records = ''.join(records)\n",
    "print(len_x,len_y)"
   ]
  },
  {
   "cell_type": "markdown",
   "metadata": {},
   "source": [
    "### Compass rules"
   ]
  },
  {
   "cell_type": "code",
   "execution_count": 6,
   "metadata": {},
   "outputs": [],
   "source": [
    "def north(p,x,y):\n",
    "    while (p-x) > 0: \n",
    "        # as long as we are not in the first row\n",
    "        p = p-x\n",
    "        if val[p] >= 0:\n",
    "            return p\n",
    "\n",
    "def north_east(p,x,y):\n",
    "    while (((p-x) > 0) and ((p+1)%x > 0)):\n",
    "        p = p-x+1\n",
    "        if val[p] >= 0:\n",
    "            return p\n",
    "\n",
    "def east(p,x,y): \n",
    "    while ((p+1)%x > 0): \n",
    "        # as long as we are not in the last column\n",
    "        p = p+1\n",
    "        try:\n",
    "            if val[p] >= 0:\n",
    "                return p\n",
    "        except:\n",
    "            print('failed east',p)\n",
    "\n",
    "def south_east(p,x,y):\n",
    "    while (((p+x) <= x*y-1) and ((p+1)%x > 0)):\n",
    "        p = p+x+1\n",
    "        if val[p] >= 0:\n",
    "            return p\n",
    "    \n",
    "def south(p,x,y):\n",
    "    while (p+x) <= x*y-1: \n",
    "        # as long as we are not in the last row\n",
    "        p = p+x\n",
    "        if val[p] >= 0:\n",
    "            return p\n",
    "\n",
    "def south_west(p,x,y):\n",
    "    while (((p+x) <= x*y-1) and ((p%x) > 0)):\n",
    "        p = p+x-1\n",
    "        if val[p] >= 0:\n",
    "            return p\n",
    "\n",
    "def west(p,x,y):\n",
    "    while ((p%x) > 0): \n",
    "        # as long as we are not in the first column\n",
    "        p = p-1\n",
    "        if val[p] >= 0:\n",
    "            return p\n",
    "\n",
    "def north_west(p,x,y):\n",
    "    while (((p-x) > 0) and ((p%x) > 0)):\n",
    "        p = p-x-1\n",
    "        if val[p] >= 0:\n",
    "            return p\n"
   ]
  },
  {
   "cell_type": "markdown",
   "metadata": {},
   "source": [
    "### Compass walk\n",
    "Building up ref[] with list of indices each position can \"see\"."
   ]
  },
  {
   "cell_type": "code",
   "execution_count": 7,
   "metadata": {},
   "outputs": [],
   "source": [
    "val = []\n",
    "for i in flat_records:\n",
    "    if i == 'L':\n",
    "        val.append(0)\n",
    "    if i == '.':\n",
    "        val.append(-1)\n",
    "ref = []\n",
    "x = len_x\n",
    "y = len_y\n",
    "for i in range(len(val)):\n",
    "    \n",
    "    tmp = []\n",
    "    tmp.append(north(i,x,y))\n",
    "    tmp.append(north_east(i,x,y))\n",
    "    #try:\n",
    "    tmp.append(east(i,x,y))\n",
    "    #except:\n",
    "    #    print('broken:',i)\n",
    "        #tmp.append(east(i,x,y))\n",
    "    tmp.append(south_east(i,x,y))\n",
    "    tmp.append(south(i,x,y))\n",
    "    tmp.append(south_west(i,x,y))\n",
    "    tmp.append(west(i,x,y))\n",
    "    tmp.append(north_west(i,x,y))\n",
    "    ref.append([x for x in tmp if x is not None])"
   ]
  },
  {
   "cell_type": "code",
   "execution_count": 8,
   "metadata": {},
   "outputs": [
    {
     "data": {
      "text/plain": [
       "[[1, 99, 98],\n",
       " [2, 100, 99, 98, 0],\n",
       " [3, 101, 100, 99, 1],\n",
       " [4, 102, 101, 100, 2],\n",
       " [5, 103, 102, 101, 3]]"
      ]
     },
     "execution_count": 8,
     "metadata": {},
     "output_type": "execute_result"
    }
   ],
   "source": [
    "ref[0:5]"
   ]
  },
  {
   "cell_type": "code",
   "execution_count": 9,
   "metadata": {},
   "outputs": [
    {
     "name": "stdout",
     "output_type": "stream",
     "text": [
      "seated: 7564\n",
      "seated: 5\n",
      "seated: 7551\n",
      "seated: 13\n",
      "seated: 7527\n",
      "seated: 25\n",
      "seated: 7490\n",
      "seated: 40\n",
      "seated: 7443\n",
      "seated: 59\n",
      "seated: 7387\n",
      "seated: 81\n",
      "seated: 7323\n",
      "seated: 107\n",
      "seated: 7247\n",
      "seated: 144\n",
      "seated: 7152\n",
      "seated: 186\n",
      "seated: 7040\n",
      "seated: 231\n",
      "seated: 6915\n",
      "seated: 285\n",
      "seated: 6770\n",
      "seated: 335\n",
      "seated: 6638\n",
      "seated: 391\n",
      "seated: 6488\n",
      "seated: 459\n",
      "seated: 6323\n",
      "seated: 540\n",
      "seated: 6133\n",
      "seated: 601\n",
      "seated: 5960\n",
      "seated: 681\n",
      "seated: 5752\n",
      "seated: 767\n",
      "seated: 5521\n",
      "seated: 858\n",
      "seated: 5280\n",
      "seated: 945\n",
      "seated: 5054\n",
      "seated: 1030\n",
      "seated: 4824\n",
      "seated: 1126\n",
      "seated: 4594\n",
      "seated: 1215\n",
      "seated: 4376\n",
      "seated: 1305\n",
      "seated: 4172\n",
      "seated: 1383\n",
      "seated: 3976\n",
      "seated: 1459\n",
      "seated: 3776\n",
      "seated: 1534\n",
      "seated: 3588\n",
      "seated: 1612\n",
      "seated: 3403\n",
      "seated: 1684\n",
      "seated: 3251\n",
      "seated: 1748\n",
      "seated: 3108\n",
      "seated: 1798\n",
      "seated: 2978\n",
      "seated: 1848\n",
      "seated: 2854\n",
      "seated: 1897\n",
      "seated: 2733\n",
      "seated: 1938\n",
      "seated: 2626\n",
      "seated: 1976\n",
      "seated: 2536\n",
      "seated: 2006\n",
      "seated: 2452\n",
      "seated: 2038\n",
      "seated: 2383\n",
      "seated: 2063\n",
      "seated: 2322\n",
      "seated: 2089\n",
      "seated: 2261\n",
      "seated: 2109\n",
      "seated: 2214\n",
      "seated: 2125\n",
      "seated: 2180\n",
      "seated: 2137\n",
      "seated: 2153\n",
      "seated: 2146\n",
      "DONE 2146\n",
      "seated: 2146\n"
     ]
    }
   ],
   "source": [
    "seated = 0\n",
    "moving = True\n",
    "while moving:\n",
    "    prev_seated = seated\n",
    "\n",
    "    tmp = val.copy()\n",
    "    for j in range(len(val)):\n",
    "        if (val[j] == 1):\n",
    "            if (sum([val[i] for i in ref[j]]) >= 5):\n",
    "                tmp[j] = 0\n",
    "        elif (val[j] == 0):\n",
    "            if (sum([val[i] for i in ref[j]]) == 0):\n",
    "                tmp[j] = 1\n",
    "    if val == tmp:\n",
    "        moving=False\n",
    "        seated = sum([i for i in tmp if i >= 0])\n",
    "        print('DONE', seated)\n",
    "    val = tmp.copy()\n",
    "    seated = sum([i for i in val if i >= 0])\n",
    "    print('seated:',seated)\n"
   ]
  },
  {
   "cell_type": "code",
   "execution_count": null,
   "metadata": {},
   "outputs": [],
   "source": [
    "2144"
   ]
  }
 ],
 "metadata": {
  "kernelspec": {
   "display_name": "Python 3",
   "language": "python",
   "name": "python3"
  },
  "language_info": {
   "codemirror_mode": {
    "name": "ipython",
    "version": 3
   },
   "file_extension": ".py",
   "mimetype": "text/x-python",
   "name": "python",
   "nbconvert_exporter": "python",
   "pygments_lexer": "ipython3",
   "version": "3.7.7"
  }
 },
 "nbformat": 4,
 "nbformat_minor": 4
}
