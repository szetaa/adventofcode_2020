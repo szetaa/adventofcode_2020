{
 "cells": [
  {
   "cell_type": "markdown",
   "metadata": {},
   "source": [
    "https://adventofcode.com/2020/day/11"
   ]
  },
  {
   "cell_type": "code",
   "execution_count": null,
   "metadata": {},
   "outputs": [],
   "source": [
    "file = '2020-12-11_test.txt'  #2020-12-11_input.txt\n",
    "with open(file) as f:\n",
    "    records = f.read().split('\\n')\n",
    "    \n",
    "records = [x for x in records[:-1]]\n",
    "len(records)"
   ]
  },
  {
   "cell_type": "markdown",
   "metadata": {},
   "source": [
    "## First part"
   ]
  },
  {
   "cell_type": "raw",
   "metadata": {},
   "source": [
    "- If a seat is empty (L) and there are no occupied seats adjacent to it, the seat becomes occupied.\n",
    "- If a seat is occupied (#) and four or more seats adjacent to it are also occupied, the seat becomes empty.\n",
    "- Otherwise, the seat's state does not change."
   ]
  },
  {
   "cell_type": "code",
   "execution_count": null,
   "metadata": {},
   "outputs": [],
   "source": [
    "import numpy as np\n",
    "def split(line): \n",
    "    return [char for char in line]  \n",
    "a = np.array([split(x) for x in records])\n",
    "a = np.where(a=='.', np.nan, a)\n",
    "a = np.where(a=='L', 0, a)\n",
    "a = a.astype(np.float32)\n",
    "a\n",
    "b = np.zeros([a.shape[0],a.shape[1],2])\n",
    "b[:,:,0] = a"
   ]
  },
  {
   "cell_type": "code",
   "execution_count": null,
   "metadata": {},
   "outputs": [],
   "source": [
    "def assess(x,y,z):\n",
    "    x1 = max(x-1,0)\n",
    "    x2 = min(x+2,a.shape[0])\n",
    "    y1 = max(y-1,0)\n",
    "    y2 = min(y+2,a.shape[1])\n",
    "    window = b[x1:x2,y1:y2,z]\n",
    "    #print(window)\n",
    "    \n",
    "    if np.isnan(b[x,y,z]):\n",
    "        result = np.nan\n",
    "    elif b[x,y,z] == 0:\n",
    "        result = int(np.nansum(window) < 1) \n",
    "    elif b[x,y,z] == 1:\n",
    "        result = int(np.nansum(window) < 5)\n",
    "        \n",
    "    return result\n"
   ]
  },
  {
   "cell_type": "code",
   "execution_count": null,
   "metadata": {},
   "outputs": [],
   "source": [
    "it_changes = True\n",
    "c = 0\n",
    "seated = 0\n",
    "while it_changes:\n",
    "    zs = c%2 # source\n",
    "    c+=1\n",
    "    zt = abs(zs-1)\n",
    "    for x in range(b.shape[0]):\n",
    "        for y in range(b.shape[1]):\n",
    "            b[x,y,zt] = assess(x,y,zs)\n",
    "    prev_seated = seated\n",
    "    seated = np.nansum(b[:,:,zt])\n",
    "    print(seated)\n",
    "    if prev_seated == seated:\n",
    "        print('stabilized')\n",
    "        it_changes = False"
   ]
  },
  {
   "cell_type": "markdown",
   "metadata": {},
   "source": [
    "## Second part"
   ]
  },
  {
   "cell_type": "code",
   "execution_count": 1,
   "metadata": {},
   "outputs": [
    {
     "name": "stdout",
     "output_type": "stream",
     "text": [
      "10 10\n"
     ]
    }
   ],
   "source": [
    "file = '2020-12-11_test.txt'  #2020-12-11_input.txt\n",
    "with open(file) as f:\n",
    "    records = f.read().split('\\n')\n",
    "    records = records[:-1] # cut empty line\n",
    "len_x = len(records)\n",
    "len_y = len(records[0])\n",
    "flat_records = ''.join(records)\n",
    "print(len_x,len_y)"
   ]
  },
  {
   "cell_type": "code",
   "execution_count": 2,
   "metadata": {},
   "outputs": [],
   "source": [
    "def north(p,x,y):\n",
    "    while (p-x) > x: \n",
    "        # as long as we are not in the first row\n",
    "        p = p-x\n",
    "        if val[p] >= 0:\n",
    "#            return f'n{p}'\n",
    "            return p\n",
    "\n",
    "def north_east(p,x,y):\n",
    "    while ((p-x)>x and (p+1)%x > 0):\n",
    "        p = p-x+1\n",
    "        if val[p] >= 0:\n",
    "#            return f'ne{p}'\n",
    "            return p\n",
    "\n",
    "def east(p,x,y): \n",
    "    while ((p+1)%x > 0): \n",
    "        # as long as we are not in the first column\n",
    "        p = p+1\n",
    "        if val[p] >= 0:\n",
    "#            return f'e{p}'\n",
    "            return p\n",
    "\n",
    "def south_east(p,x,y):\n",
    "    while ((p+1)%x > 0 and (p+x) <= x*(y-1)):\n",
    "        p = p+x+1\n",
    "        if val[p] >= 0:\n",
    "#            return f'se{p}'\n",
    "            return p\n",
    "    \n",
    "def south(p,x,y):\n",
    "    while (p+x) <= x*(y-1): \n",
    "        # as long as we are not in the last row\n",
    "        p = p+x\n",
    "        if val[p] >= 0:\n",
    "#            return f's{p}'\n",
    "            return p\n",
    "\n",
    "def south_west(p,x,y):\n",
    "    while ((p+x) <= x*(y-1) and ((p%x) > 0)):\n",
    "        p = p+x-1\n",
    "        if val[p] >= 0:\n",
    "#            return f'sw{p}'\n",
    "            return p\n",
    "\n",
    "def west(p,x,y):\n",
    "    while ((p%x) > 0): \n",
    "        # as long as we are not in the last column\n",
    "        p = p-1\n",
    "        if val[p] >= 0:\n",
    "#            return f'w{p}'\n",
    "            return p\n",
    "\n",
    "def north_west(p,x,y):\n",
    "    while ((p-x) > x and ((p%x) > 0)):\n",
    "        p = p-x-1\n",
    "        if val[p] >= 0:\n",
    "#            return f'nw{p}'\n",
    "            return p\n"
   ]
  },
  {
   "cell_type": "code",
   "execution_count": 3,
   "metadata": {},
   "outputs": [],
   "source": [
    "val = []\n",
    "for i in flat_records:\n",
    "    if i == 'L':\n",
    "        val.append(0)\n",
    "    if i == '.':\n",
    "        val.append(-1)\n",
    "ref = []\n",
    "x = len_x\n",
    "y = len_y\n",
    "for i in range(len(val)):\n",
    "    tmp = []\n",
    "    tmp.append(north(i,x,y))\n",
    "    tmp.append(north_east(i,x,y))\n",
    "    tmp.append(east(i,x,y))\n",
    "    tmp.append(south_east(i,x,y))\n",
    "    tmp.append(south(i,x,y))\n",
    "    tmp.append(south_west(i,x,y))\n",
    "    tmp.append(west(i,x,y))\n",
    "    tmp.append(north_west(i,x,y))\n",
    "    ref.append([x for x in tmp if x is not None])"
   ]
  },
  {
   "cell_type": "code",
   "execution_count": null,
   "metadata": {},
   "outputs": [],
   "source": [
    "[i for i in range(len(val)) if val[i] >= 0]"
   ]
  },
  {
   "cell_type": "code",
   "execution_count": null,
   "metadata": {},
   "outputs": [],
   "source": [
    "sum([i for i in val if i >= 0])"
   ]
  },
  {
   "cell_type": "code",
   "execution_count": 16,
   "metadata": {},
   "outputs": [],
   "source": [
    "tmp = val.copy()\n",
    "for j in range(len(val)):\n",
    "    if (val[j] == 1):\n",
    "        if (sum([val[i] for i in ref[j]]) >= 5):\n",
    "            tmp[j] = 0\n",
    "    elif (val[j] == 0):\n",
    "        if (sum([val[i] for i in ref[j]]) == 0):\n",
    "            tmp[j] = 1\n",
    "val = tmp.copy()\n"
   ]
  },
  {
   "cell_type": "code",
   "execution_count": 17,
   "metadata": {},
   "outputs": [
    {
     "data": {
      "text/plain": [
       "30"
      ]
     },
     "execution_count": 17,
     "metadata": {},
     "output_type": "execute_result"
    }
   ],
   "source": [
    "sum([i for i in val if i >= 0])"
   ]
  },
  {
   "cell_type": "code",
   "execution_count": null,
   "metadata": {},
   "outputs": [],
   "source": []
  }
 ],
 "metadata": {
  "kernelspec": {
   "display_name": "Python 3",
   "language": "python",
   "name": "python3"
  },
  "language_info": {
   "codemirror_mode": {
    "name": "ipython",
    "version": 3
   },
   "file_extension": ".py",
   "mimetype": "text/x-python",
   "name": "python",
   "nbconvert_exporter": "python",
   "pygments_lexer": "ipython3",
   "version": "3.7.7"
  }
 },
 "nbformat": 4,
 "nbformat_minor": 4
}
