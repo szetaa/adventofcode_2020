{
 "cells": [
  {
   "cell_type": "markdown",
   "metadata": {},
   "source": [
    "https://adventofcode.com/2020/day/11"
   ]
  },
  {
   "cell_type": "code",
   "execution_count": 1,
   "metadata": {},
   "outputs": [
    {
     "data": {
      "text/plain": [
       "98"
      ]
     },
     "execution_count": 1,
     "metadata": {},
     "output_type": "execute_result"
    }
   ],
   "source": [
    "file = '2020-12-11_input.txt'  #2020-12-11_input.txt\n",
    "with open(file) as f:\n",
    "    records = f.read().split('\\n')\n",
    "    \n",
    "records = [x for x in records[:-1]]\n",
    "len(records)"
   ]
  },
  {
   "cell_type": "markdown",
   "metadata": {},
   "source": [
    "## First part"
   ]
  },
  {
   "cell_type": "raw",
   "metadata": {},
   "source": [
    "- If a seat is empty (L) and there are no occupied seats adjacent to it, the seat becomes occupied.\n",
    "- If a seat is occupied (#) and four or more seats adjacent to it are also occupied, the seat becomes empty.\n",
    "- Otherwise, the seat's state does not change."
   ]
  },
  {
   "cell_type": "code",
   "execution_count": 2,
   "metadata": {},
   "outputs": [],
   "source": [
    "import numpy as np\n",
    "def split(line): \n",
    "    return [char for char in line]  \n",
    "a = np.array([split(x) for x in records])\n",
    "a = np.where(a=='.', np.nan, a)\n",
    "a = np.where(a=='L', 0, a)\n",
    "a = a.astype(np.float32)\n",
    "a\n",
    "b = np.zeros([a.shape[0],a.shape[1],2])\n",
    "b[:,:,0] = a"
   ]
  },
  {
   "cell_type": "code",
   "execution_count": 3,
   "metadata": {},
   "outputs": [],
   "source": [
    "def assess(x,y,z):\n",
    "    x1 = max(x-1,0)\n",
    "    x2 = min(x+2,a.shape[0])\n",
    "    y1 = max(y-1,0)\n",
    "    y2 = min(y+2,a.shape[1])\n",
    "    window = b[x1:x2,y1:y2,z]\n",
    "    #print(window)\n",
    "    \n",
    "    if np.isnan(b[x,y,z]):\n",
    "        result = np.nan\n",
    "    elif b[x,y,z] == 0:\n",
    "        result = int(np.nansum(window) < 1) \n",
    "    elif b[x,y,z] == 1:\n",
    "        result = int(np.nansum(window) < 5)\n",
    "        \n",
    "    return result\n"
   ]
  },
  {
   "cell_type": "code",
   "execution_count": 4,
   "metadata": {},
   "outputs": [
    {
     "name": "stdout",
     "output_type": "stream",
     "text": [
      "7564.0\n",
      "180.0\n",
      "7071.0\n",
      "378.0\n",
      "6544.0\n",
      "558.0\n",
      "6102.0\n",
      "735.0\n",
      "5729.0\n",
      "891.0\n",
      "5389.0\n",
      "1051.0\n",
      "5045.0\n",
      "1199.0\n",
      "4715.0\n",
      "1327.0\n",
      "4430.0\n",
      "1454.0\n",
      "4169.0\n",
      "1571.0\n",
      "3933.0\n",
      "1684.0\n",
      "3721.0\n",
      "1792.0\n",
      "3502.0\n",
      "1900.0\n",
      "3301.0\n",
      "2001.0\n",
      "3139.0\n",
      "2084.0\n",
      "2993.0\n",
      "2156.0\n",
      "2877.0\n",
      "2211.0\n",
      "2811.0\n",
      "2244.0\n",
      "2740.0\n",
      "2278.0\n",
      "2680.0\n",
      "2299.0\n",
      "2644.0\n",
      "2317.0\n",
      "2611.0\n",
      "2328.0\n",
      "2581.0\n",
      "2346.0\n",
      "2551.0\n",
      "2358.0\n",
      "2531.0\n",
      "2368.0\n",
      "2516.0\n",
      "2373.0\n",
      "2502.0\n",
      "2377.0\n",
      "2491.0\n",
      "2380.0\n",
      "2482.0\n",
      "2383.0\n",
      "2474.0\n",
      "2388.0\n",
      "2463.0\n",
      "2395.0\n",
      "2448.0\n",
      "2403.0\n",
      "2436.0\n",
      "2409.0\n",
      "2427.0\n",
      "2414.0\n",
      "2424.0\n",
      "2418.0\n",
      "2418.0\n",
      "stabilized\n"
     ]
    }
   ],
   "source": [
    "it_changes = True\n",
    "c = 0\n",
    "seated = 0\n",
    "while it_changes:\n",
    "    zs = c%2 # source\n",
    "    c+=1\n",
    "    zt = abs(zs-1)\n",
    "    for x in range(b.shape[0]):\n",
    "        for y in range(b.shape[1]):\n",
    "            b[x,y,zt] = assess(x,y,zs)\n",
    "    prev_seated = seated\n",
    "    seated = np.nansum(b[:,:,zt])\n",
    "    print(seated)\n",
    "    if prev_seated == seated:\n",
    "        print('stabilized')\n",
    "        it_changes = False"
   ]
  },
  {
   "cell_type": "markdown",
   "metadata": {},
   "source": [
    "## Second part"
   ]
  },
  {
   "cell_type": "code",
   "execution_count": null,
   "metadata": {},
   "outputs": [],
   "source": []
  }
 ],
 "metadata": {
  "kernelspec": {
   "display_name": "Python 3",
   "language": "python",
   "name": "python3"
  },
  "language_info": {
   "codemirror_mode": {
    "name": "ipython",
    "version": 3
   },
   "file_extension": ".py",
   "mimetype": "text/x-python",
   "name": "python",
   "nbconvert_exporter": "python",
   "pygments_lexer": "ipython3",
   "version": "3.7.7"
  }
 },
 "nbformat": 4,
 "nbformat_minor": 4
}
