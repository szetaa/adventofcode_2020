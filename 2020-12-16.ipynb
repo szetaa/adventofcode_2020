{
 "cells": [
  {
   "cell_type": "markdown",
   "metadata": {},
   "source": [
    "https://adventofcode.com/2020/day/16"
   ]
  },
  {
   "cell_type": "code",
   "execution_count": 1,
   "metadata": {},
   "outputs": [],
   "source": [
    "file = '2020-12-16_input.txt'  \n",
    "with open(file) as f:\n",
    "    records = f.read().split('\\n')\n"
   ]
  },
  {
   "cell_type": "code",
   "execution_count": 2,
   "metadata": {},
   "outputs": [
    {
     "data": {
      "text/plain": [
       "['departure location: 41-598 or 605-974',\n",
       " 'departure station: 30-617 or 625-957',\n",
       " 'departure platform: 29-914 or 931-960',\n",
       " 'departure track: 39-734 or 756-972',\n",
       " 'departure date: 37-894 or 915-956']"
      ]
     },
     "execution_count": 2,
     "metadata": {},
     "output_type": "execute_result"
    }
   ],
   "source": [
    "records[0:5]"
   ]
  },
  {
   "cell_type": "markdown",
   "metadata": {},
   "source": [
    "## First part"
   ]
  },
  {
   "cell_type": "markdown",
   "metadata": {},
   "source": [
    "### Extract rules"
   ]
  },
  {
   "cell_type": "code",
   "execution_count": 3,
   "metadata": {},
   "outputs": [
    {
     "data": {
      "text/plain": [
       "[[25, 861],\n",
       " [26, 500],\n",
       " [26, 681],\n",
       " [29, 914],\n",
       " [30, 155],\n",
       " [30, 446],\n",
       " [30, 617],\n",
       " [32, 770],\n",
       " [37, 566],\n",
       " [37, 894],\n",
       " [39, 129],\n",
       " [39, 469],\n",
       " [39, 734],\n",
       " [41, 598],\n",
       " [43, 330],\n",
       " [47, 269],\n",
       " [47, 435],\n",
       " [48, 54],\n",
       " [49, 293],\n",
       " [50, 525],\n",
       " [70, 955],\n",
       " [141, 972],\n",
       " [179, 957],\n",
       " [282, 949],\n",
       " [318, 956],\n",
       " [356, 969],\n",
       " [446, 961],\n",
       " [465, 958],\n",
       " [491, 955],\n",
       " [521, 960],\n",
       " [551, 973],\n",
       " [573, 953],\n",
       " [605, 974],\n",
       " [625, 957],\n",
       " [703, 953],\n",
       " [756, 972],\n",
       " [792, 955],\n",
       " [873, 973],\n",
       " [915, 956],\n",
       " [931, 960]]"
      ]
     },
     "execution_count": 3,
     "metadata": {},
     "output_type": "execute_result"
    }
   ],
   "source": [
    "rules = []\n",
    "for i in records:\n",
    "    if len(i.split(': ')) > 1:\n",
    "        for j in (i.split(': ')[1].split('or ')):\n",
    "            rules.append([int(x) for x in (j.split('-'))])\n",
    "sorted(rules)"
   ]
  },
  {
   "cell_type": "code",
   "execution_count": 4,
   "metadata": {},
   "outputs": [],
   "source": [
    "tickets = []\n",
    "for i in records:\n",
    "    if ',' in i:\n",
    "        for j in i.split(','):\n",
    "            tickets.append(int(j))"
   ]
  },
  {
   "cell_type": "code",
   "execution_count": 5,
   "metadata": {},
   "outputs": [
    {
     "data": {
      "text/plain": [
       "4920"
      ]
     },
     "execution_count": 5,
     "metadata": {},
     "output_type": "execute_result"
    }
   ],
   "source": [
    "len(tickets)"
   ]
  },
  {
   "cell_type": "markdown",
   "metadata": {},
   "source": [
    "Quite some tickets, and looks like a lot of overlap between the rules?"
   ]
  },
  {
   "cell_type": "code",
   "execution_count": 6,
   "metadata": {},
   "outputs": [
    {
     "data": {
      "text/plain": [
       "[[25, 974]]"
      ]
     },
     "execution_count": 6,
     "metadata": {},
     "output_type": "execute_result"
    }
   ],
   "source": [
    "simplified_rules = []\n",
    "for begin,end in sorted(rules):\n",
    "    if simplified_rules and simplified_rules[-1][1] >= begin - 1:\n",
    "        simplified_rules[-1][1] = max(simplified_rules[-1][1], end)\n",
    "    else:\n",
    "        simplified_rules.append([begin, end])\n",
    "simplified_rules"
   ]
  },
  {
   "cell_type": "code",
   "execution_count": 7,
   "metadata": {},
   "outputs": [
    {
     "data": {
      "text/plain": [
       "26988"
      ]
     },
     "execution_count": 7,
     "metadata": {},
     "output_type": "execute_result"
    }
   ],
   "source": [
    "l = 25\n",
    "u = 974\n",
    "invalid = []\n",
    "for i in tickets:\n",
    "    if (i<l or i>u):\n",
    "        invalid.append(i)\n",
    "sum(invalid)"
   ]
  },
  {
   "cell_type": "markdown",
   "metadata": {},
   "source": [
    "## Second part"
   ]
  },
  {
   "cell_type": "code",
   "execution_count": null,
   "metadata": {},
   "outputs": [],
   "source": []
  },
  {
   "cell_type": "code",
   "execution_count": null,
   "metadata": {},
   "outputs": [],
   "source": []
  }
 ],
 "metadata": {
  "kernelspec": {
   "display_name": "Python 3",
   "language": "python",
   "name": "python3"
  },
  "language_info": {
   "codemirror_mode": {
    "name": "ipython",
    "version": 3
   },
   "file_extension": ".py",
   "mimetype": "text/x-python",
   "name": "python",
   "nbconvert_exporter": "python",
   "pygments_lexer": "ipython3",
   "version": "3.7.7"
  }
 },
 "nbformat": 4,
 "nbformat_minor": 4
}
