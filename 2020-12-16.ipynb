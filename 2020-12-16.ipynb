{
 "cells": [
  {
   "cell_type": "markdown",
   "metadata": {},
   "source": [
    "https://adventofcode.com/2020/day/16"
   ]
  },
  {
   "cell_type": "code",
   "execution_count": 29,
   "metadata": {},
   "outputs": [],
   "source": [
    "file = '2020-12-16_input.txt'  \n",
    "with open(file) as f:\n",
    "    records = f.read().split('\\n')\n"
   ]
  },
  {
   "cell_type": "code",
   "execution_count": 30,
   "metadata": {},
   "outputs": [
    {
     "data": {
      "text/plain": [
       "['departure location: 41-598 or 605-974',\n",
       " 'departure station: 30-617 or 625-957',\n",
       " 'departure platform: 29-914 or 931-960',\n",
       " 'departure track: 39-734 or 756-972',\n",
       " 'departure date: 37-894 or 915-956']"
      ]
     },
     "execution_count": 30,
     "metadata": {},
     "output_type": "execute_result"
    }
   ],
   "source": [
    "records[0:5]"
   ]
  },
  {
   "cell_type": "markdown",
   "metadata": {},
   "source": [
    "## First part"
   ]
  },
  {
   "cell_type": "markdown",
   "metadata": {},
   "source": [
    "### Extract rules"
   ]
  },
  {
   "cell_type": "code",
   "execution_count": 31,
   "metadata": {},
   "outputs": [
    {
     "data": {
      "text/plain": [
       "[[25, 861],\n",
       " [26, 500],\n",
       " [26, 681],\n",
       " [29, 914],\n",
       " [30, 155],\n",
       " [30, 446],\n",
       " [30, 617],\n",
       " [32, 770],\n",
       " [37, 566],\n",
       " [37, 894],\n",
       " [39, 129],\n",
       " [39, 469],\n",
       " [39, 734],\n",
       " [41, 598],\n",
       " [43, 330],\n",
       " [47, 269],\n",
       " [47, 435],\n",
       " [48, 54],\n",
       " [49, 293],\n",
       " [50, 525],\n",
       " [70, 955],\n",
       " [141, 972],\n",
       " [179, 957],\n",
       " [282, 949],\n",
       " [318, 956],\n",
       " [356, 969],\n",
       " [446, 961],\n",
       " [465, 958],\n",
       " [491, 955],\n",
       " [521, 960],\n",
       " [551, 973],\n",
       " [573, 953],\n",
       " [605, 974],\n",
       " [625, 957],\n",
       " [703, 953],\n",
       " [756, 972],\n",
       " [792, 955],\n",
       " [873, 973],\n",
       " [915, 956],\n",
       " [931, 960]]"
      ]
     },
     "execution_count": 31,
     "metadata": {},
     "output_type": "execute_result"
    }
   ],
   "source": [
    "rules = []\n",
    "for i in records:\n",
    "    if len(i.split(': ')) > 1:\n",
    "        for j in (i.split(': ')[1].split('or ')):\n",
    "            rules.append([int(x) for x in (j.split('-'))])\n",
    "sorted(rules)"
   ]
  },
  {
   "cell_type": "code",
   "execution_count": 46,
   "metadata": {},
   "outputs": [],
   "source": [
    "tickets = []\n",
    "for i in records:\n",
    "    if ',' in i:\n",
    "        for j in i.split(','):\n",
    "            tickets.append(int(j))"
   ]
  },
  {
   "cell_type": "code",
   "execution_count": 47,
   "metadata": {},
   "outputs": [
    {
     "data": {
      "text/plain": [
       "4920"
      ]
     },
     "execution_count": 47,
     "metadata": {},
     "output_type": "execute_result"
    }
   ],
   "source": [
    "len(tickets)"
   ]
  },
  {
   "cell_type": "markdown",
   "metadata": {},
   "source": [
    "Quite some tickets, and looks like a lot of overlap between the rules?"
   ]
  },
  {
   "cell_type": "code",
   "execution_count": 6,
   "metadata": {},
   "outputs": [
    {
     "data": {
      "text/plain": [
       "[[25, 974]]"
      ]
     },
     "execution_count": 6,
     "metadata": {},
     "output_type": "execute_result"
    }
   ],
   "source": [
    "simplified_rules = []\n",
    "for begin,end in sorted(rules):\n",
    "    if simplified_rules and simplified_rules[-1][1] >= begin - 1:\n",
    "        simplified_rules[-1][1] = max(simplified_rules[-1][1], end)\n",
    "    else:\n",
    "        simplified_rules.append([begin, end])\n",
    "simplified_rules"
   ]
  },
  {
   "cell_type": "code",
   "execution_count": 7,
   "metadata": {},
   "outputs": [
    {
     "data": {
      "text/plain": [
       "26988"
      ]
     },
     "execution_count": 7,
     "metadata": {},
     "output_type": "execute_result"
    }
   ],
   "source": [
    "l = 25\n",
    "u = 974\n",
    "invalid = []\n",
    "for i in tickets:\n",
    "    if (i<l or i>u):\n",
    "        invalid.append(i)\n",
    "sum(invalid)"
   ]
  },
  {
   "cell_type": "markdown",
   "metadata": {},
   "source": [
    "## Second part"
   ]
  },
  {
   "cell_type": "code",
   "execution_count": 151,
   "metadata": {},
   "outputs": [
    {
     "data": {
      "text/plain": [
       "{'departure location': [[41, 598], [605, 974]],\n",
       " 'departure station': [[30, 617], [625, 957]],\n",
       " 'departure platform': [[29, 914], [931, 960]],\n",
       " 'departure track': [[39, 734], [756, 972]],\n",
       " 'departure date': [[37, 894], [915, 956]],\n",
       " 'departure time': [[48, 54], [70, 955]],\n",
       " 'arrival location': [[39, 469], [491, 955]],\n",
       " 'arrival station': [[47, 269], [282, 949]],\n",
       " 'arrival platform': [[26, 500], [521, 960]],\n",
       " 'arrival track': [[26, 681], [703, 953]],\n",
       " 'class': [[49, 293], [318, 956]],\n",
       " 'duration': [[25, 861], [873, 973]],\n",
       " 'price': [[30, 446], [465, 958]],\n",
       " 'route': [[50, 525], [551, 973]],\n",
       " 'row': [[39, 129], [141, 972]],\n",
       " 'seat': [[37, 566], [573, 953]],\n",
       " 'train': [[43, 330], [356, 969]],\n",
       " 'type': [[32, 770], [792, 955]],\n",
       " 'wagon': [[47, 435], [446, 961]],\n",
       " 'zone': [[30, 155], [179, 957]]}"
      ]
     },
     "execution_count": 151,
     "metadata": {},
     "output_type": "execute_result"
    }
   ],
   "source": [
    "rules = {}\n",
    "for i in records:\n",
    "    if len(i.split(': ')) > 1:\n",
    "        for row in [(i.split(': '))]:\n",
    "            j = row[1].split(' or ')\n",
    "            k = [k.split('-') for k in j]\n",
    "            k[0][0] = int(k[0][0])\n",
    "            k[0][1] = int(k[0][1])\n",
    "            k[1][0] = int(k[1][0])\n",
    "            k[1][1] = int(k[1][1])\n",
    "            rules[row[0]] = k\n",
    "rules"
   ]
  },
  {
   "cell_type": "code",
   "execution_count": 152,
   "metadata": {},
   "outputs": [
    {
     "data": {
      "text/plain": [
       "(191, 20)"
      ]
     },
     "execution_count": 152,
     "metadata": {},
     "output_type": "execute_result"
    }
   ],
   "source": [
    "l = 25\n",
    "u = 974\n",
    "def is_valid(ticket):\n",
    "    stop = False\n",
    "    if ',' in ticket:\n",
    "        for t in [int(x) for x in ticket.split(',')]:\n",
    "            if (t<l or t>u):\n",
    "                stop = True\n",
    "                break\n",
    "        if stop:\n",
    "            return False\n",
    "        else:\n",
    "            return True\n",
    "        \n",
    "tickets = []\n",
    "for i in records:\n",
    "    if is_valid(i):\n",
    "        tickets.append(i)\n",
    "import numpy as np\n",
    "tickets = [x.split(',') for x in tickets]\n",
    "tickets_array= np.array(tickets).astype(np.int32)\n",
    "tickets_array.shape"
   ]
  },
  {
   "cell_type": "code",
   "execution_count": 165,
   "metadata": {},
   "outputs": [
    {
     "data": {
      "text/plain": [
       "True"
      ]
     },
     "execution_count": 165,
     "metadata": {},
     "output_type": "execute_result"
    }
   ],
   "source": [
    "any(i in list(range(condition)) for i in tickets)"
   ]
  },
  {
   "cell_type": "code",
   "execution_count": 196,
   "metadata": {},
   "outputs": [],
   "source": [
    "assignments = {}\n",
    "for i in range(tickets_array.shape[1]):\n",
    "    assignments[i] = []\n",
    "    tickets = tickets_array[:,i]\n",
    "    for rule, condition in rules.items():\n",
    "        if (any(tickets < condition[0][0]) or\n",
    "            any(tickets > condition[1][1]) or\n",
    "            any(t in list(range(condition[0][1]+1,condition[1][0])) for t in tickets)\n",
    "           ):\n",
    "            pass\n",
    "        else:\n",
    "            assignments[i].append(rule)"
   ]
  },
  {
   "cell_type": "code",
   "execution_count": 202,
   "metadata": {},
   "outputs": [
    {
     "data": {
      "text/plain": [
       "{0: ['train', 'wagon'],\n",
       " 1: ['departure location',\n",
       "  'departure station',\n",
       "  'departure platform',\n",
       "  'departure track',\n",
       "  'departure date',\n",
       "  'departure time',\n",
       "  'arrival location',\n",
       "  'arrival platform',\n",
       "  'duration',\n",
       "  'price',\n",
       "  'seat',\n",
       "  'train',\n",
       "  'wagon',\n",
       "  'zone'],\n",
       " 2: ['duration', 'train', 'wagon'],\n",
       " 3: ['departure location',\n",
       "  'departure station',\n",
       "  'departure platform',\n",
       "  'departure track',\n",
       "  'departure date',\n",
       "  'departure time',\n",
       "  'arrival location',\n",
       "  'arrival platform',\n",
       "  'duration',\n",
       "  'price',\n",
       "  'route',\n",
       "  'seat',\n",
       "  'train',\n",
       "  'type',\n",
       "  'wagon',\n",
       "  'zone'],\n",
       " 4: ['arrival location', 'duration', 'train', 'zone'],\n",
       " 5: ['departure station',\n",
       "  'departure track',\n",
       "  'arrival location',\n",
       "  'duration',\n",
       "  'price',\n",
       "  'seat',\n",
       "  'train',\n",
       "  'wagon',\n",
       "  'zone'],\n",
       " 6: ['departure location',\n",
       "  'departure station',\n",
       "  'departure platform',\n",
       "  'departure track',\n",
       "  'departure date',\n",
       "  'departure time',\n",
       "  'arrival location',\n",
       "  'arrival platform',\n",
       "  'class',\n",
       "  'duration',\n",
       "  'price',\n",
       "  'route',\n",
       "  'row',\n",
       "  'seat',\n",
       "  'train',\n",
       "  'type',\n",
       "  'wagon',\n",
       "  'zone'],\n",
       " 7: ['arrival location', 'duration', 'price', 'train', 'wagon', 'zone'],\n",
       " 8: ['departure location',\n",
       "  'departure station',\n",
       "  'departure track',\n",
       "  'departure time',\n",
       "  'arrival location',\n",
       "  'duration',\n",
       "  'price',\n",
       "  'seat',\n",
       "  'train',\n",
       "  'wagon',\n",
       "  'zone'],\n",
       " 9: ['departure location',\n",
       "  'departure station',\n",
       "  'departure platform',\n",
       "  'departure track',\n",
       "  'departure date',\n",
       "  'departure time',\n",
       "  'arrival location',\n",
       "  'arrival platform',\n",
       "  'duration',\n",
       "  'price',\n",
       "  'route',\n",
       "  'row',\n",
       "  'seat',\n",
       "  'train',\n",
       "  'type',\n",
       "  'wagon',\n",
       "  'zone'],\n",
       " 10: ['departure location',\n",
       "  'departure station',\n",
       "  'departure platform',\n",
       "  'departure track',\n",
       "  'departure date',\n",
       "  'departure time',\n",
       "  'arrival location',\n",
       "  'duration',\n",
       "  'price',\n",
       "  'seat',\n",
       "  'train',\n",
       "  'wagon',\n",
       "  'zone'],\n",
       " 11: ['duration', 'train', 'wagon', 'zone'],\n",
       " 12: ['departure location',\n",
       "  'departure station',\n",
       "  'departure platform',\n",
       "  'departure track',\n",
       "  'departure date',\n",
       "  'departure time',\n",
       "  'arrival location',\n",
       "  'arrival station',\n",
       "  'arrival platform',\n",
       "  'arrival track',\n",
       "  'class',\n",
       "  'duration',\n",
       "  'price',\n",
       "  'route',\n",
       "  'row',\n",
       "  'seat',\n",
       "  'train',\n",
       "  'type',\n",
       "  'wagon',\n",
       "  'zone'],\n",
       " 13: ['departure location',\n",
       "  'departure station',\n",
       "  'departure platform',\n",
       "  'departure track',\n",
       "  'departure time',\n",
       "  'arrival location',\n",
       "  'duration',\n",
       "  'price',\n",
       "  'seat',\n",
       "  'train',\n",
       "  'wagon',\n",
       "  'zone'],\n",
       " 14: ['arrival location',\n",
       "  'duration',\n",
       "  'price',\n",
       "  'seat',\n",
       "  'train',\n",
       "  'wagon',\n",
       "  'zone'],\n",
       " 15: ['departure location',\n",
       "  'departure station',\n",
       "  'departure platform',\n",
       "  'departure track',\n",
       "  'departure date',\n",
       "  'departure time',\n",
       "  'arrival location',\n",
       "  'arrival platform',\n",
       "  'duration',\n",
       "  'price',\n",
       "  'seat',\n",
       "  'train',\n",
       "  'type',\n",
       "  'wagon',\n",
       "  'zone'],\n",
       " 16: ['departure track',\n",
       "  'arrival location',\n",
       "  'duration',\n",
       "  'price',\n",
       "  'seat',\n",
       "  'train',\n",
       "  'wagon',\n",
       "  'zone'],\n",
       " 17: ['departure location',\n",
       "  'departure station',\n",
       "  'departure platform',\n",
       "  'departure track',\n",
       "  'departure date',\n",
       "  'departure time',\n",
       "  'arrival location',\n",
       "  'arrival platform',\n",
       "  'arrival track',\n",
       "  'class',\n",
       "  'duration',\n",
       "  'price',\n",
       "  'route',\n",
       "  'row',\n",
       "  'seat',\n",
       "  'train',\n",
       "  'type',\n",
       "  'wagon',\n",
       "  'zone'],\n",
       " 18: ['departure station',\n",
       "  'departure track',\n",
       "  'departure time',\n",
       "  'arrival location',\n",
       "  'duration',\n",
       "  'price',\n",
       "  'seat',\n",
       "  'train',\n",
       "  'wagon',\n",
       "  'zone'],\n",
       " 19: ['wagon']}"
      ]
     },
     "execution_count": 202,
     "metadata": {},
     "output_type": "execute_result"
    }
   ],
   "source": [
    "assignments"
   ]
  },
  {
   "cell_type": "code",
   "execution_count": 204,
   "metadata": {},
   "outputs": [
    {
     "data": {
      "text/plain": [
       "{19: ['wagon'],\n",
       " 0: ['train', 'wagon'],\n",
       " 2: ['duration', 'train', 'wagon'],\n",
       " 4: ['arrival location', 'duration', 'train', 'zone'],\n",
       " 11: ['duration', 'train', 'wagon', 'zone'],\n",
       " 7: ['arrival location', 'duration', 'price', 'train', 'wagon', 'zone'],\n",
       " 14: ['arrival location',\n",
       "  'duration',\n",
       "  'price',\n",
       "  'seat',\n",
       "  'train',\n",
       "  'wagon',\n",
       "  'zone'],\n",
       " 16: ['departure track',\n",
       "  'arrival location',\n",
       "  'duration',\n",
       "  'price',\n",
       "  'seat',\n",
       "  'train',\n",
       "  'wagon',\n",
       "  'zone'],\n",
       " 5: ['departure station',\n",
       "  'departure track',\n",
       "  'arrival location',\n",
       "  'duration',\n",
       "  'price',\n",
       "  'seat',\n",
       "  'train',\n",
       "  'wagon',\n",
       "  'zone'],\n",
       " 18: ['departure station',\n",
       "  'departure track',\n",
       "  'departure time',\n",
       "  'arrival location',\n",
       "  'duration',\n",
       "  'price',\n",
       "  'seat',\n",
       "  'train',\n",
       "  'wagon',\n",
       "  'zone'],\n",
       " 8: ['departure location',\n",
       "  'departure station',\n",
       "  'departure track',\n",
       "  'departure time',\n",
       "  'arrival location',\n",
       "  'duration',\n",
       "  'price',\n",
       "  'seat',\n",
       "  'train',\n",
       "  'wagon',\n",
       "  'zone'],\n",
       " 13: ['departure location',\n",
       "  'departure station',\n",
       "  'departure platform',\n",
       "  'departure track',\n",
       "  'departure time',\n",
       "  'arrival location',\n",
       "  'duration',\n",
       "  'price',\n",
       "  'seat',\n",
       "  'train',\n",
       "  'wagon',\n",
       "  'zone'],\n",
       " 10: ['departure location',\n",
       "  'departure station',\n",
       "  'departure platform',\n",
       "  'departure track',\n",
       "  'departure date',\n",
       "  'departure time',\n",
       "  'arrival location',\n",
       "  'duration',\n",
       "  'price',\n",
       "  'seat',\n",
       "  'train',\n",
       "  'wagon',\n",
       "  'zone'],\n",
       " 1: ['departure location',\n",
       "  'departure station',\n",
       "  'departure platform',\n",
       "  'departure track',\n",
       "  'departure date',\n",
       "  'departure time',\n",
       "  'arrival location',\n",
       "  'arrival platform',\n",
       "  'duration',\n",
       "  'price',\n",
       "  'seat',\n",
       "  'train',\n",
       "  'wagon',\n",
       "  'zone'],\n",
       " 15: ['departure location',\n",
       "  'departure station',\n",
       "  'departure platform',\n",
       "  'departure track',\n",
       "  'departure date',\n",
       "  'departure time',\n",
       "  'arrival location',\n",
       "  'arrival platform',\n",
       "  'duration',\n",
       "  'price',\n",
       "  'seat',\n",
       "  'train',\n",
       "  'type',\n",
       "  'wagon',\n",
       "  'zone'],\n",
       " 3: ['departure location',\n",
       "  'departure station',\n",
       "  'departure platform',\n",
       "  'departure track',\n",
       "  'departure date',\n",
       "  'departure time',\n",
       "  'arrival location',\n",
       "  'arrival platform',\n",
       "  'duration',\n",
       "  'price',\n",
       "  'route',\n",
       "  'seat',\n",
       "  'train',\n",
       "  'type',\n",
       "  'wagon',\n",
       "  'zone'],\n",
       " 9: ['departure location',\n",
       "  'departure station',\n",
       "  'departure platform',\n",
       "  'departure track',\n",
       "  'departure date',\n",
       "  'departure time',\n",
       "  'arrival location',\n",
       "  'arrival platform',\n",
       "  'duration',\n",
       "  'price',\n",
       "  'route',\n",
       "  'row',\n",
       "  'seat',\n",
       "  'train',\n",
       "  'type',\n",
       "  'wagon',\n",
       "  'zone'],\n",
       " 6: ['departure location',\n",
       "  'departure station',\n",
       "  'departure platform',\n",
       "  'departure track',\n",
       "  'departure date',\n",
       "  'departure time',\n",
       "  'arrival location',\n",
       "  'arrival platform',\n",
       "  'class',\n",
       "  'duration',\n",
       "  'price',\n",
       "  'route',\n",
       "  'row',\n",
       "  'seat',\n",
       "  'train',\n",
       "  'type',\n",
       "  'wagon',\n",
       "  'zone'],\n",
       " 17: ['departure location',\n",
       "  'departure station',\n",
       "  'departure platform',\n",
       "  'departure track',\n",
       "  'departure date',\n",
       "  'departure time',\n",
       "  'arrival location',\n",
       "  'arrival platform',\n",
       "  'arrival track',\n",
       "  'class',\n",
       "  'duration',\n",
       "  'price',\n",
       "  'route',\n",
       "  'row',\n",
       "  'seat',\n",
       "  'train',\n",
       "  'type',\n",
       "  'wagon',\n",
       "  'zone'],\n",
       " 12: ['departure location',\n",
       "  'departure station',\n",
       "  'departure platform',\n",
       "  'departure track',\n",
       "  'departure date',\n",
       "  'departure time',\n",
       "  'arrival location',\n",
       "  'arrival station',\n",
       "  'arrival platform',\n",
       "  'arrival track',\n",
       "  'class',\n",
       "  'duration',\n",
       "  'price',\n",
       "  'route',\n",
       "  'row',\n",
       "  'seat',\n",
       "  'train',\n",
       "  'type',\n",
       "  'wagon',\n",
       "  'zone']}"
      ]
     },
     "execution_count": 204,
     "metadata": {},
     "output_type": "execute_result"
    }
   ],
   "source": [
    "{k: v for k, v in sorted(assignments.items(), key=lambda item: len(item[1]))}"
   ]
  },
  {
   "cell_type": "code",
   "execution_count": 209,
   "metadata": {},
   "outputs": [
    {
     "data": {
      "text/plain": [
       "{'wagon': 19,\n",
       " 'train': 0,\n",
       " 'duration': 2,\n",
       " 'arrival location': 4,\n",
       " 'zone': 4,\n",
       " 'price': 7,\n",
       " 'seat': 14,\n",
       " 'departure track': 16,\n",
       " 'departure station': 5,\n",
       " 'departure time': 18,\n",
       " 'departure location': 8,\n",
       " 'departure platform': 13,\n",
       " 'departure date': 10,\n",
       " 'arrival platform': 1,\n",
       " 'type': 15,\n",
       " 'route': 3,\n",
       " 'row': 9,\n",
       " 'class': 6,\n",
       " 'arrival track': 17,\n",
       " 'arrival station': 12}"
      ]
     },
     "execution_count": 209,
     "metadata": {},
     "output_type": "execute_result"
    }
   ],
   "source": [
    "assignments = {k: v for k, v in sorted(assignments.items(), key=lambda item: len(item[1]))}\n",
    "assigned = {}\n",
    "for key, value in assignments.items():\n",
    "    for v in value:\n",
    "        if v not in assigned:\n",
    "            assigned[v] = key\n",
    "            \n",
    "assigned"
   ]
  },
  {
   "cell_type": "code",
   "execution_count": 224,
   "metadata": {},
   "outputs": [
    {
     "data": {
      "text/plain": [
       "426362917709"
      ]
     },
     "execution_count": 224,
     "metadata": {},
     "output_type": "execute_result"
    }
   ],
   "source": [
    "your_ticket = [71,127,181,179,113,109,79,151,97,107,53,193,73,83,191,101,89,149,103,197]\n",
    "x = 1\n",
    "for key, value in assigned.items():\n",
    "    if 'departure' in key:\n",
    "        x = x*your_ticket[value]\n",
    "x"
   ]
  },
  {
   "cell_type": "code",
   "execution_count": null,
   "metadata": {},
   "outputs": [],
   "source": []
  }
 ],
 "metadata": {
  "kernelspec": {
   "display_name": "Python 3",
   "language": "python",
   "name": "python3"
  },
  "language_info": {
   "codemirror_mode": {
    "name": "ipython",
    "version": 3
   },
   "file_extension": ".py",
   "mimetype": "text/x-python",
   "name": "python",
   "nbconvert_exporter": "python",
   "pygments_lexer": "ipython3",
   "version": "3.7.7"
  }
 },
 "nbformat": 4,
 "nbformat_minor": 4
}
